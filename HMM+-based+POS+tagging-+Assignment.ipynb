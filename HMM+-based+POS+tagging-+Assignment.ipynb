{
 "cells": [
  {
   "cell_type": "markdown",
   "metadata": {},
   "source": [
    "## POS tagging using modified Viterbi"
   ]
  },
  {
   "cell_type": "markdown",
   "metadata": {},
   "source": [
    "- Name: Ragesh Hajela\n",
    "- Applicant ID : APFE19704533\n",
    "- Roll Number  : DML1980177"
   ]
  },
  {
   "cell_type": "markdown",
   "metadata": {},
   "source": [
    "### Data Preparation"
   ]
  },
  {
   "cell_type": "code",
   "execution_count": 1,
   "metadata": {},
   "outputs": [],
   "source": [
    "# Importing libraries\n",
    "import nltk\n",
    "import random\n",
    "import numpy as np\n",
    "import pandas as pd\n",
    "import seaborn as sns\n",
    "import matplotlib.pyplot as plt\n",
    "from collections import Counter\n",
    "from nltk.tokenize import word_tokenize\n",
    "from sklearn.model_selection import train_test_split"
   ]
  },
  {
   "cell_type": "code",
   "execution_count": 2,
   "metadata": {},
   "outputs": [],
   "source": [
    "# Reading the Treebank tagged sentences\n",
    "nltk_data = list(nltk.corpus.treebank.tagged_sents(tagset='universal'))"
   ]
  },
  {
   "cell_type": "code",
   "execution_count": 3,
   "metadata": {},
   "outputs": [
    {
     "name": "stdout",
     "output_type": "stream",
     "text": [
      "<class 'list'>\n"
     ]
    },
    {
     "data": {
      "text/plain": [
       "[[('Pierre', 'NOUN'),\n",
       "  ('Vinken', 'NOUN'),\n",
       "  (',', '.'),\n",
       "  ('61', 'NUM'),\n",
       "  ('years', 'NOUN'),\n",
       "  ('old', 'ADJ'),\n",
       "  (',', '.'),\n",
       "  ('will', 'VERB'),\n",
       "  ('join', 'VERB'),\n",
       "  ('the', 'DET'),\n",
       "  ('board', 'NOUN'),\n",
       "  ('as', 'ADP'),\n",
       "  ('a', 'DET'),\n",
       "  ('nonexecutive', 'ADJ'),\n",
       "  ('director', 'NOUN'),\n",
       "  ('Nov.', 'NOUN'),\n",
       "  ('29', 'NUM'),\n",
       "  ('.', '.')],\n",
       " [('Mr.', 'NOUN'),\n",
       "  ('Vinken', 'NOUN'),\n",
       "  ('is', 'VERB'),\n",
       "  ('chairman', 'NOUN'),\n",
       "  ('of', 'ADP'),\n",
       "  ('Elsevier', 'NOUN'),\n",
       "  ('N.V.', 'NOUN'),\n",
       "  (',', '.'),\n",
       "  ('the', 'DET'),\n",
       "  ('Dutch', 'NOUN'),\n",
       "  ('publishing', 'VERB'),\n",
       "  ('group', 'NOUN'),\n",
       "  ('.', '.')]]"
      ]
     },
     "execution_count": 3,
     "metadata": {},
     "output_type": "execute_result"
    }
   ],
   "source": [
    "# check data type of nltk_data and print first 2 elements\n",
    "print(type(nltk_data))\n",
    "nltk_data[:2]"
   ]
  },
  {
   "cell_type": "code",
   "execution_count": 4,
   "metadata": {},
   "outputs": [
    {
     "name": "stdout",
     "output_type": "stream",
     "text": [
      "length of training dataset:\t3718\n",
      "length of test dataset:\t\t196\n"
     ]
    },
    {
     "data": {
      "text/plain": [
       "[[('A', 'DET'),\n",
       "  ('man', 'NOUN'),\n",
       "  ('from', 'ADP'),\n",
       "  ('the', 'DET'),\n",
       "  ('Bush', 'NOUN'),\n",
       "  ('administration', 'NOUN'),\n",
       "  ('came', 'VERB'),\n",
       "  ('before', 'ADP'),\n",
       "  ('the', 'DET'),\n",
       "  ('House', 'NOUN'),\n",
       "  ('Agriculture', 'NOUN'),\n",
       "  ('Committee', 'NOUN'),\n",
       "  ('yesterday', 'NOUN'),\n",
       "  ('*-1', 'X'),\n",
       "  ('to', 'PRT'),\n",
       "  ('talk', 'VERB'),\n",
       "  ('about', 'ADP'),\n",
       "  ('the', 'DET'),\n",
       "  ('U.S.', 'NOUN'),\n",
       "  (\"'s\", 'PRT'),\n",
       "  ('intention', 'NOUN'),\n",
       "  ('*', 'X'),\n",
       "  ('to', 'PRT'),\n",
       "  ('send', 'VERB'),\n",
       "  ('some', 'DET'),\n",
       "  ('$', '.'),\n",
       "  ('100', 'NUM'),\n",
       "  ('million', 'NUM'),\n",
       "  ('*U*', 'X'),\n",
       "  ('in', 'ADP'),\n",
       "  ('food', 'NOUN'),\n",
       "  ('aid', 'NOUN'),\n",
       "  ('to', 'PRT'),\n",
       "  ('Poland', 'NOUN'),\n",
       "  (',', '.'),\n",
       "  ('with', 'ADP'),\n",
       "  ('more', 'ADJ'),\n",
       "  ('0', 'X'),\n",
       "  ('*T*-2', 'X'),\n",
       "  ('to', 'PRT'),\n",
       "  ('come', 'VERB'),\n",
       "  ('from', 'ADP'),\n",
       "  ('the', 'DET'),\n",
       "  ('EC', 'NOUN'),\n",
       "  ('.', '.')],\n",
       " [('But', 'CONJ'),\n",
       "  ('in', 'ADP'),\n",
       "  ('August', 'NOUN'),\n",
       "  (',', '.'),\n",
       "  ('First', 'ADJ'),\n",
       "  ('Atlanta', 'NOUN'),\n",
       "  ('National', 'NOUN'),\n",
       "  ('Bank', 'NOUN'),\n",
       "  ('introduced', 'VERB'),\n",
       "  ('its', 'PRON'),\n",
       "  ('Crown', 'NOUN'),\n",
       "  ('Account', 'NOUN'),\n",
       "  (',', '.'),\n",
       "  ('a', 'DET'),\n",
       "  ('package', 'NOUN'),\n",
       "  ('designed', 'VERB'),\n",
       "  ('*', 'X'),\n",
       "  ('*-1', 'X'),\n",
       "  ('to', 'PRT'),\n",
       "  ('lure', 'VERB'),\n",
       "  ('customers', 'NOUN'),\n",
       "  ('such', 'ADJ'),\n",
       "  ('as', 'ADP'),\n",
       "  ('Ms.', 'NOUN'),\n",
       "  ('Driskill', 'NOUN'),\n",
       "  ('.', '.')]]"
      ]
     },
     "execution_count": 4,
     "metadata": {},
     "output_type": "execute_result"
    }
   ],
   "source": [
    "# we split the Treebank dataset into train and validation sets.\n",
    "# As advised, we use a sample size of 95:5 for training: validation sets,\n",
    "# i.e. keep the validation size small, else the algorithm will need a very high amount of runtime.\n",
    "# Split and check size of train/test data and print first 2 elements of training sample\n",
    "random.seed(100)\n",
    "nltk_train, nltk_test = train_test_split(nltk_data, test_size=0.05)\n",
    "\n",
    "print(f'length of training dataset:\\t{len(nltk_train)}')\n",
    "print(f'length of test dataset:\\t\\t{len(nltk_test)}')\n",
    "nltk_train[:2]"
   ]
  },
  {
   "cell_type": "code",
   "execution_count": 5,
   "metadata": {},
   "outputs": [
    {
     "name": "stdout",
     "output_type": "stream",
     "text": [
      "length of list containing tagged words of training dataset: 95396\n"
     ]
    },
    {
     "data": {
      "text/plain": [
       "[('A', 'DET'),\n",
       " ('man', 'NOUN'),\n",
       " ('from', 'ADP'),\n",
       " ('the', 'DET'),\n",
       " ('Bush', 'NOUN'),\n",
       " ('administration', 'NOUN'),\n",
       " ('came', 'VERB'),\n",
       " ('before', 'ADP'),\n",
       " ('the', 'DET'),\n",
       " ('House', 'NOUN')]"
      ]
     },
     "execution_count": 5,
     "metadata": {},
     "output_type": "execute_result"
    }
   ],
   "source": [
    "# Get the complete list of tagged words in training set and print first 10 elements of tagged words in training data\n",
    "nltk_train_tagged_words = [el for sublist in nltk_train for el in sublist]\n",
    "print(f'length of list containing tagged words of training dataset: {len(nltk_train_tagged_words)}')\n",
    "nltk_train_tagged_words[:10]"
   ]
  },
  {
   "cell_type": "code",
   "execution_count": 6,
   "metadata": {},
   "outputs": [
    {
     "name": "stdout",
     "output_type": "stream",
     "text": [
      "length of list containing tokens or words of training dataset: 95396\n"
     ]
    },
    {
     "data": {
      "text/plain": [
       "['A',\n",
       " 'man',\n",
       " 'from',\n",
       " 'the',\n",
       " 'Bush',\n",
       " 'administration',\n",
       " 'came',\n",
       " 'before',\n",
       " 'the',\n",
       " 'House']"
      ]
     },
     "execution_count": 6,
     "metadata": {},
     "output_type": "execute_result"
    }
   ],
   "source": [
    "# Fetch all the tokens available in tagged words of training dataset and print first 10 tagged words\n",
    "nltk_train_tokens = [el[0] for el in nltk_train_tagged_words]\n",
    "print(f'length of list containing tokens or words of training dataset: {len(nltk_train_tokens)}')\n",
    "nltk_train_tokens[:10]"
   ]
  },
  {
   "cell_type": "code",
   "execution_count": 7,
   "metadata": {},
   "outputs": [
    {
     "name": "stdout",
     "output_type": "stream",
     "text": [
      "Unique number of tokens or words present in training dataset: 12027\n"
     ]
    }
   ],
   "source": [
    "# Get all the unique vocabularies from word token extracted from training sample dataset and print first 10 elements\n",
    "nltk_train_vocab = set(nltk_train_tokens)\n",
    "print(f'Unique number of tokens or words present in training dataset: {len(nltk_train_vocab)}')"
   ]
  },
  {
   "cell_type": "code",
   "execution_count": 8,
   "metadata": {},
   "outputs": [
    {
     "name": "stdout",
     "output_type": "stream",
     "text": [
      "Unique number of tags present in training dataset: 12\n"
     ]
    },
    {
     "data": {
      "text/plain": [
       "{'.',\n",
       " 'ADJ',\n",
       " 'ADP',\n",
       " 'ADV',\n",
       " 'CONJ',\n",
       " 'DET',\n",
       " 'NOUN',\n",
       " 'NUM',\n",
       " 'PRON',\n",
       " 'PRT',\n",
       " 'VERB',\n",
       " 'X'}"
      ]
     },
     "execution_count": 8,
     "metadata": {},
     "output_type": "execute_result"
    }
   ],
   "source": [
    "# Get the number of unique tags among tagged words in training dataset and print all of them\n",
    "nltk_train_tags = {el[1] for el in nltk_train_tagged_words}\n",
    "print(f'Unique number of tags present in training dataset: {len(nltk_train_tags)}')\n",
    "nltk_train_tags"
   ]
  },
  {
   "cell_type": "markdown",
   "metadata": {},
   "source": [
    "As seen above, we confirm that the Universal tagset of NLTK used in this assignment comprises only 12 coarse tag classes as follows: Verb, Noun, Pronouns, Adjectives, Adverbs, Adpositions, Conjunctions, Determiners, Cardinal Numbers, Particles, Other/ Foreign words, Punctuations."
   ]
  },
  {
   "cell_type": "markdown",
   "metadata": {},
   "source": [
    "### Build the vanilla Viterbi based POS tagger"
   ]
  },
  {
   "cell_type": "markdown",
   "metadata": {},
   "source": [
    "#### Helper Methods"
   ]
  },
  {
   "cell_type": "code",
   "execution_count": 9,
   "metadata": {},
   "outputs": [],
   "source": [
    "# Emission Probability: get counts to compute emission probability of a word given it's tag\n",
    "def get_emission_prob(word, target_tag, source_data = nltk_train_tagged_words):\n",
    "    tag_list = [tag_pair for tag_pair in source_data if tag_pair[1] == target_tag]\n",
    "    tag_with_word_list = [tag_pair[0] for tag_pair in tag_list if tag_pair[0] == word]\n",
    "    return (len(tag_with_word_list), len(tag_list))"
   ]
  },
  {
   "cell_type": "code",
   "execution_count": 10,
   "metadata": {},
   "outputs": [],
   "source": [
    "# Transition Probability: get counts to compute transition prabability of a final tag given start tag\n",
    "def get_transition_prob(final_state, start_state, source_data = nltk_train_tagged_words):\n",
    "    all_tags = [pair[1] for pair in source_data]\n",
    "    start_count = len([t for t in all_tags if t==start_state])\n",
    "    transition_count = 0\n",
    "    for idx in range(len(all_tags)-1):\n",
    "        if all_tags[idx] == start_state and all_tags[idx+1] == final_state:\n",
    "            transition_count += 1\n",
    "    return (transition_count, start_count)"
   ]
  },
  {
   "cell_type": "markdown",
   "metadata": {},
   "source": [
    "#### Tagger Building"
   ]
  },
  {
   "cell_type": "code",
   "execution_count": 11,
   "metadata": {},
   "outputs": [
    {
     "name": "stdout",
     "output_type": "stream",
     "text": [
      "shape of probability array is: (12, 12)\n"
     ]
    },
    {
     "data": {
      "text/plain": [
       "array([[6.62130788e-02, 6.63790270e-04, 2.07434446e-02, 1.69266518e-02,\n",
       "        4.97842673e-03, 1.21141719e-02, 6.48854971e-02, 6.99634910e-01,\n",
       "        1.06206443e-02, 2.07434446e-02, 7.78294057e-02, 4.64653177e-03],\n",
       "       [7.16762990e-02, 7.32177263e-03, 7.70712923e-03, 5.00963395e-03,\n",
       "        9.24855471e-03, 4.87861276e-01, 4.20038551e-02, 2.09248558e-01,\n",
       "        1.19460505e-02, 9.09441262e-02, 2.35067438e-02, 3.35260108e-02],\n",
       "       [3.41956578e-02, 1.18941418e-03, 1.87332734e-01, 1.36782639e-02,\n",
       "        3.56824254e-03, 1.75438598e-02, 1.16859950e-01, 3.52661312e-01,\n",
       "        2.70591732e-02, 2.08147481e-01, 3.44930105e-02, 3.27088917e-03],\n",
       "       [1.14030972e-01, 5.77193797e-02, 4.12951671e-02, 4.69263265e-04,\n",
       "        1.21539183e-01, 1.56264663e-01, 3.51947434e-02, 3.52416694e-01,\n",
       "        4.69263270e-03, 8.91600177e-03, 5.34960106e-02, 5.39652742e-02],\n",
       "       [2.04288125e-01, 3.61358700e-03, 2.19224282e-02, 4.81811614e-04,\n",
       "        5.29992767e-03, 3.92676480e-02, 1.73452180e-02, 6.40689015e-01,\n",
       "        2.40905807e-04, 4.46880274e-02, 9.39532649e-03, 1.27680078e-02],\n",
       "       [6.39159232e-02, 3.57337482e-02, 2.22654734e-02, 5.44959120e-03,\n",
       "        1.34371355e-01, 1.67380303e-01, 3.56558971e-02, 1.11171663e-01,\n",
       "        3.16076279e-02, 2.18528613e-01, 9.19423923e-02, 8.19774196e-02],\n",
       "       [4.42247204e-02, 6.61573038e-02, 8.06292146e-02, 5.79775274e-02,\n",
       "        1.74651682e-01, 9.00674164e-02, 9.41123590e-02, 2.17797756e-01,\n",
       "        2.42696633e-03, 2.79550571e-02, 9.09662917e-02, 5.29438220e-02],\n",
       "       [1.21143358e-02, 4.64809872e-03, 9.44259390e-03, 4.21988815e-02,\n",
       "        1.32123120e-02, 1.47458181e-01, 2.39688173e-01, 2.64465839e-01,\n",
       "        4.37360480e-02, 2.84375809e-02, 1.77469537e-01, 1.71284266e-02],\n",
       "       [8.18271413e-02, 1.80742685e-02, 5.71804158e-02, 1.97173841e-03,\n",
       "        1.02859020e-01, 4.00920153e-01, 4.17351313e-02, 2.49424905e-01,\n",
       "        1.97173841e-03, 1.38021689e-02, 2.03746296e-02, 9.85869206e-03],\n",
       "       [1.74093600e-02, 5.47835827e-02, 2.87494017e-03, 9.90257133e-03,\n",
       "        5.49433008e-02, 2.04759628e-01, 1.66746527e-01, 5.94154298e-02,\n",
       "        1.84475318e-01, 7.58664757e-02, 1.42948404e-01, 2.58744601e-02],\n",
       "       [1.05746634e-01, 6.94296062e-02, 6.30207211e-02, 7.47703481e-04,\n",
       "        3.24716955e-01, 8.43836833e-03, 4.03759889e-02, 3.20657969e-01,\n",
       "        1.38859218e-03, 3.48216183e-02, 1.70903653e-02, 1.35654779e-02],\n",
       "       [1.30794704e-01, 1.49006620e-02, 3.14569548e-02, 7.28476839e-03,\n",
       "        6.78807944e-02, 3.39735091e-01, 1.35761589e-01, 3.24503295e-02,\n",
       "        1.42384106e-02, 2.38410588e-02, 1.20860927e-01, 8.07946995e-02]],\n",
       "      dtype=float32)"
      ]
     },
     "execution_count": 11,
     "metadata": {},
     "output_type": "execute_result"
    }
   ],
   "source": [
    "# Build the initial matrix of all tags using transition probabilities\n",
    "prob_array = np.zeros((len(nltk_train_tags), len(nltk_train_tags)), dtype='float32')\n",
    "for idx_i, tag_init in enumerate(list(nltk_train_tags)):\n",
    "    for idx_j, tag_final in enumerate(list(nltk_train_tags)):\n",
    "        prob_array[idx_i, idx_j] = get_transition_prob(tag_final, tag_init)[0] / get_transition_prob(tag_final,\n",
    "                                                                                                     tag_init)[1]\n",
    "print(f'shape of probability array is: {prob_array.shape}')\n",
    "prob_array"
   ]
  },
  {
   "cell_type": "code",
   "execution_count": 12,
   "metadata": {},
   "outputs": [
    {
     "name": "stdout",
     "output_type": "stream",
     "text": [
      "ADJ     0.044225\n",
      "PRON    0.066157\n",
      "NUM     0.080629\n",
      "CONJ    0.057978\n",
      "DET     0.174652\n",
      "VERB    0.090067\n",
      ".       0.094112\n",
      "NOUN    0.217798\n",
      "PRT     0.002427\n",
      "X       0.027955\n",
      "ADP     0.090966\n",
      "ADV     0.052944\n",
      "Name: ., dtype: float32\n"
     ]
    },
    {
     "data": {
      "text/html": [
       "<div>\n",
       "<style scoped>\n",
       "    .dataframe tbody tr th:only-of-type {\n",
       "        vertical-align: middle;\n",
       "    }\n",
       "\n",
       "    .dataframe tbody tr th {\n",
       "        vertical-align: top;\n",
       "    }\n",
       "\n",
       "    .dataframe thead th {\n",
       "        text-align: right;\n",
       "    }\n",
       "</style>\n",
       "<table border=\"1\" class=\"dataframe\">\n",
       "  <thead>\n",
       "    <tr style=\"text-align: right;\">\n",
       "      <th></th>\n",
       "      <th>ADJ</th>\n",
       "      <th>PRON</th>\n",
       "      <th>NUM</th>\n",
       "      <th>CONJ</th>\n",
       "      <th>DET</th>\n",
       "      <th>VERB</th>\n",
       "      <th>.</th>\n",
       "      <th>NOUN</th>\n",
       "      <th>PRT</th>\n",
       "      <th>X</th>\n",
       "      <th>ADP</th>\n",
       "      <th>ADV</th>\n",
       "    </tr>\n",
       "  </thead>\n",
       "  <tbody>\n",
       "    <tr>\n",
       "      <th>ADJ</th>\n",
       "      <td>0.066213</td>\n",
       "      <td>0.000664</td>\n",
       "      <td>0.020743</td>\n",
       "      <td>0.016927</td>\n",
       "      <td>0.004978</td>\n",
       "      <td>0.012114</td>\n",
       "      <td>0.064885</td>\n",
       "      <td>0.699635</td>\n",
       "      <td>0.010621</td>\n",
       "      <td>0.020743</td>\n",
       "      <td>0.077829</td>\n",
       "      <td>0.004647</td>\n",
       "    </tr>\n",
       "    <tr>\n",
       "      <th>PRON</th>\n",
       "      <td>0.071676</td>\n",
       "      <td>0.007322</td>\n",
       "      <td>0.007707</td>\n",
       "      <td>0.005010</td>\n",
       "      <td>0.009249</td>\n",
       "      <td>0.487861</td>\n",
       "      <td>0.042004</td>\n",
       "      <td>0.209249</td>\n",
       "      <td>0.011946</td>\n",
       "      <td>0.090944</td>\n",
       "      <td>0.023507</td>\n",
       "      <td>0.033526</td>\n",
       "    </tr>\n",
       "    <tr>\n",
       "      <th>NUM</th>\n",
       "      <td>0.034196</td>\n",
       "      <td>0.001189</td>\n",
       "      <td>0.187333</td>\n",
       "      <td>0.013678</td>\n",
       "      <td>0.003568</td>\n",
       "      <td>0.017544</td>\n",
       "      <td>0.116860</td>\n",
       "      <td>0.352661</td>\n",
       "      <td>0.027059</td>\n",
       "      <td>0.208147</td>\n",
       "      <td>0.034493</td>\n",
       "      <td>0.003271</td>\n",
       "    </tr>\n",
       "    <tr>\n",
       "      <th>CONJ</th>\n",
       "      <td>0.114031</td>\n",
       "      <td>0.057719</td>\n",
       "      <td>0.041295</td>\n",
       "      <td>0.000469</td>\n",
       "      <td>0.121539</td>\n",
       "      <td>0.156265</td>\n",
       "      <td>0.035195</td>\n",
       "      <td>0.352417</td>\n",
       "      <td>0.004693</td>\n",
       "      <td>0.008916</td>\n",
       "      <td>0.053496</td>\n",
       "      <td>0.053965</td>\n",
       "    </tr>\n",
       "    <tr>\n",
       "      <th>DET</th>\n",
       "      <td>0.204288</td>\n",
       "      <td>0.003614</td>\n",
       "      <td>0.021922</td>\n",
       "      <td>0.000482</td>\n",
       "      <td>0.005300</td>\n",
       "      <td>0.039268</td>\n",
       "      <td>0.017345</td>\n",
       "      <td>0.640689</td>\n",
       "      <td>0.000241</td>\n",
       "      <td>0.044688</td>\n",
       "      <td>0.009395</td>\n",
       "      <td>0.012768</td>\n",
       "    </tr>\n",
       "    <tr>\n",
       "      <th>VERB</th>\n",
       "      <td>0.063916</td>\n",
       "      <td>0.035734</td>\n",
       "      <td>0.022265</td>\n",
       "      <td>0.005450</td>\n",
       "      <td>0.134371</td>\n",
       "      <td>0.167380</td>\n",
       "      <td>0.035656</td>\n",
       "      <td>0.111172</td>\n",
       "      <td>0.031608</td>\n",
       "      <td>0.218529</td>\n",
       "      <td>0.091942</td>\n",
       "      <td>0.081977</td>\n",
       "    </tr>\n",
       "    <tr>\n",
       "      <th>.</th>\n",
       "      <td>0.044225</td>\n",
       "      <td>0.066157</td>\n",
       "      <td>0.080629</td>\n",
       "      <td>0.057978</td>\n",
       "      <td>0.174652</td>\n",
       "      <td>0.090067</td>\n",
       "      <td>0.094112</td>\n",
       "      <td>0.217798</td>\n",
       "      <td>0.002427</td>\n",
       "      <td>0.027955</td>\n",
       "      <td>0.090966</td>\n",
       "      <td>0.052944</td>\n",
       "    </tr>\n",
       "    <tr>\n",
       "      <th>NOUN</th>\n",
       "      <td>0.012114</td>\n",
       "      <td>0.004648</td>\n",
       "      <td>0.009443</td>\n",
       "      <td>0.042199</td>\n",
       "      <td>0.013212</td>\n",
       "      <td>0.147458</td>\n",
       "      <td>0.239688</td>\n",
       "      <td>0.264466</td>\n",
       "      <td>0.043736</td>\n",
       "      <td>0.028438</td>\n",
       "      <td>0.177470</td>\n",
       "      <td>0.017128</td>\n",
       "    </tr>\n",
       "    <tr>\n",
       "      <th>PRT</th>\n",
       "      <td>0.081827</td>\n",
       "      <td>0.018074</td>\n",
       "      <td>0.057180</td>\n",
       "      <td>0.001972</td>\n",
       "      <td>0.102859</td>\n",
       "      <td>0.400920</td>\n",
       "      <td>0.041735</td>\n",
       "      <td>0.249425</td>\n",
       "      <td>0.001972</td>\n",
       "      <td>0.013802</td>\n",
       "      <td>0.020375</td>\n",
       "      <td>0.009859</td>\n",
       "    </tr>\n",
       "    <tr>\n",
       "      <th>X</th>\n",
       "      <td>0.017409</td>\n",
       "      <td>0.054784</td>\n",
       "      <td>0.002875</td>\n",
       "      <td>0.009903</td>\n",
       "      <td>0.054943</td>\n",
       "      <td>0.204760</td>\n",
       "      <td>0.166747</td>\n",
       "      <td>0.059415</td>\n",
       "      <td>0.184475</td>\n",
       "      <td>0.075866</td>\n",
       "      <td>0.142948</td>\n",
       "      <td>0.025874</td>\n",
       "    </tr>\n",
       "    <tr>\n",
       "      <th>ADP</th>\n",
       "      <td>0.105747</td>\n",
       "      <td>0.069430</td>\n",
       "      <td>0.063021</td>\n",
       "      <td>0.000748</td>\n",
       "      <td>0.324717</td>\n",
       "      <td>0.008438</td>\n",
       "      <td>0.040376</td>\n",
       "      <td>0.320658</td>\n",
       "      <td>0.001389</td>\n",
       "      <td>0.034822</td>\n",
       "      <td>0.017090</td>\n",
       "      <td>0.013565</td>\n",
       "    </tr>\n",
       "    <tr>\n",
       "      <th>ADV</th>\n",
       "      <td>0.130795</td>\n",
       "      <td>0.014901</td>\n",
       "      <td>0.031457</td>\n",
       "      <td>0.007285</td>\n",
       "      <td>0.067881</td>\n",
       "      <td>0.339735</td>\n",
       "      <td>0.135762</td>\n",
       "      <td>0.032450</td>\n",
       "      <td>0.014238</td>\n",
       "      <td>0.023841</td>\n",
       "      <td>0.120861</td>\n",
       "      <td>0.080795</td>\n",
       "    </tr>\n",
       "  </tbody>\n",
       "</table>\n",
       "</div>"
      ],
      "text/plain": [
       "           ADJ      PRON       NUM      CONJ       DET      VERB         .  \\\n",
       "ADJ   0.066213  0.000664  0.020743  0.016927  0.004978  0.012114  0.064885   \n",
       "PRON  0.071676  0.007322  0.007707  0.005010  0.009249  0.487861  0.042004   \n",
       "NUM   0.034196  0.001189  0.187333  0.013678  0.003568  0.017544  0.116860   \n",
       "CONJ  0.114031  0.057719  0.041295  0.000469  0.121539  0.156265  0.035195   \n",
       "DET   0.204288  0.003614  0.021922  0.000482  0.005300  0.039268  0.017345   \n",
       "VERB  0.063916  0.035734  0.022265  0.005450  0.134371  0.167380  0.035656   \n",
       ".     0.044225  0.066157  0.080629  0.057978  0.174652  0.090067  0.094112   \n",
       "NOUN  0.012114  0.004648  0.009443  0.042199  0.013212  0.147458  0.239688   \n",
       "PRT   0.081827  0.018074  0.057180  0.001972  0.102859  0.400920  0.041735   \n",
       "X     0.017409  0.054784  0.002875  0.009903  0.054943  0.204760  0.166747   \n",
       "ADP   0.105747  0.069430  0.063021  0.000748  0.324717  0.008438  0.040376   \n",
       "ADV   0.130795  0.014901  0.031457  0.007285  0.067881  0.339735  0.135762   \n",
       "\n",
       "          NOUN       PRT         X       ADP       ADV  \n",
       "ADJ   0.699635  0.010621  0.020743  0.077829  0.004647  \n",
       "PRON  0.209249  0.011946  0.090944  0.023507  0.033526  \n",
       "NUM   0.352661  0.027059  0.208147  0.034493  0.003271  \n",
       "CONJ  0.352417  0.004693  0.008916  0.053496  0.053965  \n",
       "DET   0.640689  0.000241  0.044688  0.009395  0.012768  \n",
       "VERB  0.111172  0.031608  0.218529  0.091942  0.081977  \n",
       ".     0.217798  0.002427  0.027955  0.090966  0.052944  \n",
       "NOUN  0.264466  0.043736  0.028438  0.177470  0.017128  \n",
       "PRT   0.249425  0.001972  0.013802  0.020375  0.009859  \n",
       "X     0.059415  0.184475  0.075866  0.142948  0.025874  \n",
       "ADP   0.320658  0.001389  0.034822  0.017090  0.013565  \n",
       "ADV   0.032450  0.014238  0.023841  0.120861  0.080795  "
      ]
     },
     "execution_count": 12,
     "metadata": {},
     "output_type": "execute_result"
    }
   ],
   "source": [
    "# Create the initial dataframe for all training tags\n",
    "nltk_tags_df = pd.DataFrame(prob_array, columns = list(nltk_train_tags), index=list(nltk_train_tags))\n",
    "print(nltk_tags_df.loc['.', :])\n",
    "nltk_tags_df"
   ]
  },
  {
   "cell_type": "code",
   "execution_count": 13,
   "metadata": {},
   "outputs": [
    {
     "data": {
      "image/png": "[encoded data removed]",
      "text/plain": [
       "<Figure size 1008x720 with 2 Axes>"
      ]
     },
     "metadata": {
      "needs_background": "light"
     },
     "output_type": "display_data"
    }
   ],
   "source": [
    "# Visualise nltk_tags_df matrix using heatmap. Here, P(i, j) means P(tag j given tag i)\n",
    "plt.figure(figsize=(14, 10))\n",
    "sns.heatmap(nltk_tags_df)\n",
    "plt.show()"
   ]
  },
  {
   "cell_type": "code",
   "execution_count": 14,
   "metadata": {},
   "outputs": [
    {
     "data": {
      "image/png": "[encoded data removed]",
      "text/plain": [
       "<Figure size 1008x720 with 2 Axes>"
      ]
     },
     "metadata": {
      "needs_background": "light"
     },
     "output_type": "display_data"
    }
   ],
   "source": [
    "# Visualise nltk_tags_df matrix using heatmap and filter to get P(final_state, start_state) > 0.25\n",
    "nltk_tags_filtered_df = nltk_tags_df[nltk_tags_df > 0.25]\n",
    "plt.figure(figsize=(14, 10))\n",
    "sns.heatmap(nltk_tags_filtered_df)\n",
    "plt.show()"
   ]
  },
  {
   "cell_type": "code",
   "execution_count": 15,
   "metadata": {},
   "outputs": [
    {
     "data": {
      "image/png": "[encoded data removed]",
      "text/plain": [
       "<Figure size 1008x720 with 2 Axes>"
      ]
     },
     "metadata": {
      "needs_background": "light"
     },
     "output_type": "display_data"
    }
   ],
   "source": [
    "# Visualise nltk_tags_df matrix using heatmap and filter to get P(final_state, start_state) > 0.50\n",
    "nltk_tags_filtered_df = nltk_tags_df[nltk_tags_df > 0.50]\n",
    "plt.figure(figsize=(14, 10))\n",
    "sns.heatmap(nltk_tags_filtered_df)\n",
    "plt.show()"
   ]
  },
  {
   "cell_type": "markdown",
   "metadata": {},
   "source": [
    "We observe, as expected, Noun and Determinent & Noun and Adjective are highly correlated. Mostly Nouns are followed by determinents and adjectives"
   ]
  },
  {
   "cell_type": "code",
   "execution_count": 16,
   "metadata": {},
   "outputs": [],
   "source": [
    "# Viterbi Heuristic: Build the vanilla Viterbi based POS tagger by computing emission and state probabilities\n",
    "# Initialise list of probability column for a given observation and then get state for which probability is maximum\n",
    "def execute_viterbi(words, source_data = nltk_train_tagged_words):\n",
    "    state_list = []\n",
    "    tag_list = list(set([el[1] for el in source_data]))\n",
    "    for idx, word in enumerate(words):\n",
    "        word_prob = []\n",
    "        for tag in tag_list:\n",
    "            state_prob, transition_prob, emission_prob = None, None, None\n",
    "            if idx == 0:\n",
    "                transition_prob = nltk_tags_df.loc['.', tag]\n",
    "            else:\n",
    "                transition_prob = nltk_tags_df.loc[state_list[-1], tag]\n",
    "            emission_prob = get_emission_prob(words[idx], tag)[0]/get_emission_prob(words[idx], tag)[1]\n",
    "            word_prob.append(emission_prob * transition_prob)\n",
    "        state_max_prob = tag_list[word_prob.index(max(word_prob))] \n",
    "        state_list.append(state_max_prob)\n",
    "    return list(zip(words, state_list))"
   ]
  },
  {
   "cell_type": "code",
   "execution_count": 17,
   "metadata": {},
   "outputs": [
    {
     "data": {
      "text/plain": [
       "[[('Many', 'ADJ'),\n",
       "  ('Asians', 'NOUN'),\n",
       "  ('regard', 'VERB'),\n",
       "  ('a', 'DET'),\n",
       "  ('U.S.', 'NOUN'),\n",
       "  ('presence', 'NOUN'),\n",
       "  ('as', 'ADP'),\n",
       "  ('a', 'DET'),\n",
       "  ('desirable', 'ADJ'),\n",
       "  ('counterweight', 'NOUN'),\n",
       "  ('to', 'PRT'),\n",
       "  ('Japanese', 'ADJ'),\n",
       "  ('influence', 'NOUN'),\n",
       "  ('.', '.')],\n",
       " [('Mr.', 'NOUN'),\n",
       "  ('Cray', 'NOUN'),\n",
       "  (',', '.'),\n",
       "  ('who', 'PRON'),\n",
       "  ('*T*-1', 'X'),\n",
       "  ('could', 'VERB'),\n",
       "  (\"n't\", 'ADV'),\n",
       "  ('be', 'VERB'),\n",
       "  ('reached', 'VERB'),\n",
       "  ('*-24', 'X'),\n",
       "  ('for', 'ADP'),\n",
       "  ('comment', 'NOUN'),\n",
       "  (',', '.'),\n",
       "  ('will', 'VERB'),\n",
       "  ('work', 'VERB'),\n",
       "  ('for', 'ADP'),\n",
       "  ('the', 'DET'),\n",
       "  ('new', 'ADJ'),\n",
       "  ('Colorado', 'NOUN'),\n",
       "  ('Springs', 'NOUN'),\n",
       "  (',', '.'),\n",
       "  ('Colo.', 'NOUN'),\n",
       "  (',', '.'),\n",
       "  ('company', 'NOUN'),\n",
       "  ('as', 'ADP'),\n",
       "  ('an', 'DET'),\n",
       "  ('independent', 'ADJ'),\n",
       "  ('contractor', 'NOUN'),\n",
       "  ('--', '.'),\n",
       "  ('the', 'DET'),\n",
       "  ('arrangement', 'NOUN'),\n",
       "  ('0', 'X'),\n",
       "  ('he', 'PRON'),\n",
       "  ('had', 'VERB'),\n",
       "  ('*T*-2', 'X'),\n",
       "  ('with', 'ADP'),\n",
       "  ('Cray', 'NOUN'),\n",
       "  ('Research', 'NOUN'),\n",
       "  ('.', '.')]]"
      ]
     },
     "execution_count": 17,
     "metadata": {},
     "output_type": "execute_result"
    }
   ],
   "source": [
    "# Algorithm runtime on the full test data is taking too long, so restricting to few samples only\n",
    "# Execute Viterbi algorithm on first 10 sample sentences of test dataset chosen randomly\n",
    "# Let the list of tagged and untagged words and print list of all sentences\n",
    "random.seed(100)\n",
    "random_samples = [random.randint(1,len(nltk_test)) for x in range(10)]\n",
    "random_test_sentences = [nltk_test[i] for i in random_samples]\n",
    "\n",
    "test_tagged_words = [tup for sentence in random_test_sentences for tup in sentence]\n",
    "test_untagged_words = [tup[0] for sentence in random_test_sentences for tup in sentence]\n",
    "random_test_sentences[:2]"
   ]
  },
  {
   "cell_type": "markdown",
   "metadata": {},
   "source": [
    "#### Execute tagging"
   ]
  },
  {
   "cell_type": "code",
   "execution_count": 18,
   "metadata": {},
   "outputs": [
    {
     "name": "stdout",
     "output_type": "stream",
     "text": [
      "CPU times: user 49.3 s, sys: 168 ms, total: 49.5 s\n",
      "Wall time: 49.6 s\n"
     ]
    },
    {
     "data": {
      "text/plain": [
       "[('Many', 'ADJ'),\n",
       " ('Asians', 'ADJ'),\n",
       " ('regard', 'VERB'),\n",
       " ('a', 'DET'),\n",
       " ('U.S.', 'NOUN'),\n",
       " ('presence', 'NOUN'),\n",
       " ('as', 'ADP'),\n",
       " ('a', 'DET'),\n",
       " ('desirable', 'ADJ'),\n",
       " ('counterweight', 'ADJ')]"
      ]
     },
     "execution_count": 18,
     "metadata": {},
     "output_type": "execute_result"
    }
   ],
   "source": [
    "%%time\n",
    "# Start tagging the test sentences using execute_viterbi algorithm and get the accuracy\n",
    "tagged_sequence = execute_viterbi(test_untagged_words)\n",
    "tagged_sequence[:10]"
   ]
  },
  {
   "cell_type": "markdown",
   "metadata": {},
   "source": [
    "#### Evaluating tagging accuracy"
   ]
  },
  {
   "cell_type": "code",
   "execution_count": 19,
   "metadata": {},
   "outputs": [
    {
     "name": "stdout",
     "output_type": "stream",
     "text": [
      "accuracy of vannila viterbi algorithm is: 0.8960573476702509\n"
     ]
    }
   ],
   "source": [
    "# Get the accuracy of vannila viterbi algorithm\n",
    "source = [sequence for sequence, word_tag in zip(tagged_sequence, test_tagged_words) if sequence == word_tag] \n",
    "accuracy_vannila_viterbi = len(source)/len(tagged_sequence)\n",
    "print(f'accuracy of vannila viterbi algorithm is: {accuracy_vannila_viterbi}')"
   ]
  },
  {
   "cell_type": "code",
   "execution_count": 20,
   "metadata": {},
   "outputs": [
    {
     "data": {
      "text/plain": [
       "[[('Many', 'ADJ'), (('Asians', 'ADJ'), ('Asians', 'NOUN'))],\n",
       " [('desirable', 'ADJ'), (('counterweight', 'ADJ'), ('counterweight', 'NOUN'))],\n",
       " [('new', 'ADJ'), (('Colorado', 'ADJ'), ('Colorado', 'NOUN'))],\n",
       " [('.', '.'), (('Pan', 'ADJ'), ('Pan', 'NOUN'))],\n",
       " [('Pan', 'NOUN'), (('Am', 'ADJ'), ('Am', 'VERB'))],\n",
       " [('has', 'VERB'), (('subpoenaed', 'ADJ'), ('subpoenaed', 'VERB'))],\n",
       " [('the', 'DET'), (('CIA', 'ADJ'), ('CIA', 'NOUN'))],\n",
       " [('and', 'CONJ'), (('FBI', 'ADJ'), ('FBI', 'NOUN'))],\n",
       " [('a', 'DET'), (('bomb', 'ADJ'), ('bomb', 'NOUN'))],\n",
       " [('been', 'VERB'), (('planted', 'ADJ'), ('planted', 'VERB'))],\n",
       " [('*-2', 'X'), (('aboard', 'ADJ'), ('aboard', 'ADP'))],\n",
       " [('jet', 'NOUN'), (('that', 'ADP'), ('that', 'DET'))],\n",
       " [('*T*-3', 'X'), (('exploded', 'ADJ'), ('exploded', 'VERB'))],\n",
       " [('over', 'ADP'), (('Scotland', 'ADJ'), ('Scotland', 'NOUN'))],\n",
       " [('the', 'DET'), (('reorganized', 'ADJ'), ('reorganized', 'VERB'))],\n",
       " [('*-1', 'X'), (('Ranger', 'ADJ'), ('Ranger', 'NOUN'))],\n",
       " [('The', 'DET'), (('most', 'ADJ'), ('most', 'ADV'))],\n",
       " [('&', 'CONJ'), (('poor', 'ADJ'), ('poor', 'NOUN'))],\n",
       " [('the', 'DET'), (('Major', 'ADJ'), ('Major', 'NOUN'))],\n",
       " [('index', 'NOUN'), (('that', 'ADP'), ('that', 'DET'))],\n",
       " [('*T*-1', 'X'), (('mimics', 'ADJ'), ('mimics', 'VERB'))],\n",
       " [('the', 'DET'), (('chicago', 'ADJ'), ('chicago', 'NOUN'))],\n",
       " [('stocks', 'NOUN'), (('selected', 'ADJ'), ('selected', 'VERB'))],\n",
       " [('IRS', 'NOUN'), (('rarely', 'ADJ'), ('rarely', 'ADV'))],\n",
       " [('rarely', 'ADV'), (('acted', 'ADJ'), ('acted', 'VERB'))],\n",
       " [('to', 'PRT'), (('51.6', 'ADJ'), ('51.6', 'NUM'))],\n",
       " [('of', 'ADP'), (('readings', 'ADJ'), ('readings', 'NOUN'))],\n",
       " [('.', '.'), (('Countries', 'ADJ'), ('Countries', 'NOUN'))],\n",
       " [('a', 'DET'), (('framework', 'ADJ'), ('framework', 'NOUN'))]]"
      ]
     },
     "execution_count": 20,
     "metadata": {},
     "output_type": "execute_result"
    }
   ],
   "source": [
    "# Get all the incorrect tagged words\n",
    "incorrect_tagged_words = [[test_tagged_words[idx-1], seq_to_check]\n",
    "                          for idx, seq_to_check in enumerate(zip(tagged_sequence, test_tagged_words))\n",
    "                          if seq_to_check[0] != seq_to_check[1]]\n",
    "incorrect_tagged_words"
   ]
  },
  {
   "cell_type": "markdown",
   "metadata": {},
   "source": [
    "### Solve the problem of unknown words"
   ]
  },
  {
   "cell_type": "markdown",
   "metadata": {},
   "source": [
    "#### Check Test File"
   ]
  },
  {
   "cell_type": "code",
   "execution_count": 21,
   "metadata": {},
   "outputs": [
    {
     "name": "stdout",
     "output_type": "stream",
     "text": [
      "Android is a mobile operating system developed by Google.\n",
      "\n",
      "Android has been the best-selling OS worldwide on smartphones since 2011 and on tablets since 2013.\n",
      "\n",
      "Google and Twitter made a deal in 2015 that gave Google access to Twitter's firehose.\n",
      "\n",
      "Twitter is an online news and social networking service on which users post and interact with messages known as tweets.\n",
      "\n",
      "Before entering politics, Donald Trump was a domineering businessman and a television personality.\n",
      "\n",
      "The 2018 FIFA World Cup is the 21st FIFA World Cup, an international football tournament contested once every four years.\n",
      "\n",
      "This is the first World Cup to be held in Eastern Europe and the 11th time that it has been held in Europe.\n",
      "\n",
      "Show me the cheapest round trips from Dallas to Atlanta\n",
      "\n",
      "I would like to see flights from Denver to Philadelphia.\n",
      "\n",
      "Show me the price of the flights leaving Atlanta at about 3 in the afternoon and arriving in San Francisco.\n",
      "\n",
      "NASA invited social media users to experience the launch of ICESAT-2 Satellite.\n",
      "\n",
      "\n",
      "\n",
      "\n",
      "\n",
      "\n",
      "\n"
     ]
    },
    {
     "data": {
      "text/plain": [
       "['Android is a mobile operating system developed by Google.\\n',\n",
       " 'Android has been the best-selling OS worldwide on smartphones since 2011 and on tablets since 2013.\\n',\n",
       " \"Google and Twitter made a deal in 2015 that gave Google access to Twitter's firehose.\\n\",\n",
       " 'Twitter is an online news and social networking service on which users post and interact with messages known as tweets.\\n',\n",
       " 'Before entering politics, Donald Trump was a domineering businessman and a television personality.\\n',\n",
       " 'The 2018 FIFA World Cup is the 21st FIFA World Cup, an international football tournament contested once every four years.\\n',\n",
       " 'This is the first World Cup to be held in Eastern Europe and the 11th time that it has been held in Europe.\\n',\n",
       " 'Show me the cheapest round trips from Dallas to Atlanta\\n',\n",
       " 'I would like to see flights from Denver to Philadelphia.\\n',\n",
       " 'Show me the price of the flights leaving Atlanta at about 3 in the afternoon and arriving in San Francisco.\\n',\n",
       " 'NASA invited social media users to experience the launch of ICESAT-2 Satellite.\\n',\n",
       " '\\n',\n",
       " '\\n',\n",
       " '\\n']"
      ]
     },
     "execution_count": 21,
     "metadata": {},
     "output_type": "execute_result"
    }
   ],
   "source": [
    "# Load test file test_sentences.txt and print all the lines of the test file\n",
    "test_sentences = []\n",
    "with open(\"Test_sentences.txt\", encoding='utf-8') as file_obj:\n",
    "    for line in file_obj:\n",
    "        print(line)\n",
    "        test_sentences.append(line)\n",
    "test_sentences"
   ]
  },
  {
   "cell_type": "code",
   "execution_count": 22,
   "metadata": {},
   "outputs": [
    {
     "data": {
      "text/plain": [
       "['Android is a mobile operating system developed by Google.',\n",
       " 'Android has been the best-selling OS worldwide on smartphones since 2011 and on tablets since 2013.',\n",
       " \"Google and Twitter made a deal in 2015 that gave Google access to Twitter's firehose.\",\n",
       " 'Twitter is an online news and social networking service on which users post and interact with messages known as tweets.',\n",
       " 'Before entering politics, Donald Trump was a domineering businessman and a television personality.',\n",
       " 'The 2018 FIFA World Cup is the 21st FIFA World Cup, an international football tournament contested once every four years.',\n",
       " 'This is the first World Cup to be held in Eastern Europe and the 11th time that it has been held in Europe.',\n",
       " 'Show me the cheapest round trips from Dallas to Atlanta',\n",
       " 'I would like to see flights from Denver to Philadelphia.',\n",
       " 'Show me the price of the flights leaving Atlanta at about 3 in the afternoon and arriving in San Francisco.',\n",
       " 'NASA invited social media users to experience the launch of ICESAT-2 Satellite.']"
      ]
     },
     "execution_count": 22,
     "metadata": {},
     "output_type": "execute_result"
    }
   ],
   "source": [
    "# Cleanup special characters like newline and empty strings in the test file\n",
    "test_sentences = [sentence.rstrip() for sentence in test_sentences if sentence.rstrip()!='']\n",
    "test_sentences"
   ]
  },
  {
   "cell_type": "code",
   "execution_count": 23,
   "metadata": {},
   "outputs": [
    {
     "name": "stdout",
     "output_type": "stream",
     "text": [
      "[('Android', 'ADJ'), ('is', 'VERB'), ('a', 'DET'), ('mobile', 'ADJ'), ('operating', 'NOUN'), ('system', 'NOUN'), ('developed', 'VERB'), ('by', 'ADP'), ('Google', 'ADJ'), ('.', '.'), ('Android', 'ADJ'), ('has', 'VERB'), ('been', 'VERB'), ('the', 'DET'), ('best-selling', 'ADJ'), ('OS', 'ADJ'), ('worldwide', 'ADJ'), ('on', 'ADP'), ('smartphones', 'ADJ'), ('since', 'ADP'), ('2011', 'ADJ'), ('and', 'CONJ'), ('on', 'ADP'), ('tablets', 'NOUN'), ('since', 'ADP'), ('2013', 'ADJ'), ('.', '.'), ('Google', 'ADJ'), ('and', 'CONJ'), ('Twitter', 'ADJ'), ('made', 'VERB'), ('a', 'DET'), ('deal', 'NOUN'), ('in', 'ADP'), ('2015', 'ADJ'), ('that', 'ADP'), ('gave', 'VERB'), ('Google', 'ADJ'), ('access', 'NOUN'), ('to', 'PRT'), ('Twitter', 'ADJ'), (\"'s\", 'PRT'), ('firehose', 'ADJ'), ('.', '.'), ('Twitter', 'ADJ'), ('is', 'VERB'), ('an', 'DET'), ('online', 'ADJ'), ('news', 'NOUN'), ('and', 'CONJ'), ('social', 'ADJ'), ('networking', 'NOUN'), ('service', 'NOUN'), ('on', 'ADP'), ('which', 'DET'), ('users', 'NOUN'), ('post', 'NOUN'), ('and', 'CONJ'), ('interact', 'ADJ'), ('with', 'ADP'), ('messages', 'ADJ'), ('known', 'ADJ'), ('as', 'ADP'), ('tweets', 'ADJ'), ('.', '.'), ('Before', 'ADP'), ('entering', 'VERB'), ('politics', 'NOUN'), (',', '.'), ('Donald', 'NOUN'), ('Trump', 'NOUN'), ('was', 'VERB'), ('a', 'DET'), ('domineering', 'ADJ'), ('businessman', 'NOUN'), ('and', 'CONJ'), ('a', 'DET'), ('television', 'NOUN'), ('personality', 'ADJ'), ('.', '.'), ('The', 'DET'), ('2018', 'ADJ'), ('FIFA', 'ADJ'), ('World', 'NOUN'), ('Cup', 'ADJ'), ('is', 'VERB'), ('the', 'DET'), ('21st', 'ADJ'), ('FIFA', 'ADJ'), ('World', 'NOUN'), ('Cup', 'ADJ'), (',', '.'), ('an', 'DET'), ('international', 'ADJ'), ('football', 'NOUN'), ('tournament', 'ADJ'), ('contested', 'ADJ'), ('once', 'ADV'), ('every', 'DET'), ('four', 'NUM'), ('years', 'NOUN'), ('.', '.'), ('This', 'DET'), ('is', 'VERB'), ('the', 'DET'), ('first', 'ADJ'), ('World', 'NOUN'), ('Cup', 'ADJ'), ('to', 'PRT'), ('be', 'VERB'), ('held', 'VERB'), ('in', 'ADP'), ('Eastern', 'NOUN'), ('Europe', 'NOUN'), ('and', 'CONJ'), ('the', 'DET'), ('11th', 'ADJ'), ('time', 'NOUN'), ('that', 'ADP'), ('it', 'PRON'), ('has', 'VERB'), ('been', 'VERB'), ('held', 'VERB'), ('in', 'ADP'), ('Europe', 'NOUN'), ('.', '.'), ('Show', 'NOUN'), ('me', 'PRON'), ('the', 'DET'), ('cheapest', 'ADJ'), ('round', 'NOUN'), ('trips', 'ADJ'), ('from', 'ADP'), ('Dallas', 'NOUN'), ('to', 'PRT'), ('Atlanta', 'NOUN'), ('I', 'PRON'), ('would', 'VERB'), ('like', 'ADP'), ('to', 'PRT'), ('see', 'VERB'), ('flights', 'NOUN'), ('from', 'ADP'), ('Denver', 'ADJ'), ('to', 'PRT'), ('Philadelphia', 'NOUN'), ('.', '.'), ('Show', 'NOUN'), ('me', 'PRON'), ('the', 'DET'), ('price', 'NOUN'), ('of', 'ADP'), ('the', 'DET'), ('flights', 'NOUN'), ('leaving', 'VERB'), ('Atlanta', 'NOUN'), ('at', 'ADP'), ('about', 'ADP'), ('3', 'NUM'), ('in', 'ADP'), ('the', 'DET'), ('afternoon', 'NOUN'), ('and', 'CONJ'), ('arriving', 'ADJ'), ('in', 'ADP'), ('San', 'NOUN'), ('Francisco', 'NOUN'), ('.', '.'), ('NASA', 'ADJ'), ('invited', 'ADJ'), ('social', 'ADJ'), ('media', 'NOUN'), ('users', 'NOUN'), ('to', 'PRT'), ('experience', 'NOUN'), ('the', 'DET'), ('launch', 'NOUN'), ('of', 'ADP'), ('ICESAT-2', 'ADJ'), ('Satellite', 'ADJ'), ('.', '.')]\n",
      "CPU times: user 32.8 s, sys: 136 ms, total: 33 s\n",
      "Wall time: 33.1 s\n"
     ]
    }
   ],
   "source": [
    "%%time\n",
    "# Perform word_tokenize on test sentences, execute vanilla viterbi algorithm\n",
    "# This helps to get predictions on the test sentences.\n",
    "test_sentences_pred = []\n",
    "for sentence in test_sentences:\n",
    "    test_sentences_pred.extend(execute_viterbi(word_tokenize(sentence)))\n",
    "print(test_sentences_pred)"
   ]
  },
  {
   "cell_type": "code",
   "execution_count": 24,
   "metadata": {},
   "outputs": [
    {
     "name": "stdout",
     "output_type": "stream",
     "text": [
      "['Satellite', 'smartphones', 'tournament', 'Google', 'ICESAT-2', 'trips', 'interact', 'OS', '2018', '21st', 'invited', 'Android', '2013', 'tweets', '2015', 'domineering', 'worldwide', 'online', 'arriving', 'Denver', 'Cup', 'contested', 'FIFA', 'firehose', 'Twitter', 'messages', '2011', 'personality', 'NASA']\n"
     ]
    },
    {
     "data": {
      "text/plain": [
       "[('Android', 'ADJ'),\n",
       " ('Google', 'ADJ'),\n",
       " ('Android', 'ADJ'),\n",
       " ('OS', 'ADJ'),\n",
       " ('worldwide', 'ADJ'),\n",
       " ('smartphones', 'ADJ'),\n",
       " ('2011', 'ADJ'),\n",
       " ('2013', 'ADJ'),\n",
       " ('Google', 'ADJ'),\n",
       " ('Twitter', 'ADJ'),\n",
       " ('2015', 'ADJ'),\n",
       " ('Google', 'ADJ'),\n",
       " ('Twitter', 'ADJ'),\n",
       " ('firehose', 'ADJ'),\n",
       " ('Twitter', 'ADJ'),\n",
       " ('online', 'ADJ'),\n",
       " ('interact', 'ADJ'),\n",
       " ('messages', 'ADJ'),\n",
       " ('tweets', 'ADJ'),\n",
       " ('domineering', 'ADJ'),\n",
       " ('personality', 'ADJ'),\n",
       " ('2018', 'ADJ'),\n",
       " ('FIFA', 'ADJ'),\n",
       " ('Cup', 'ADJ'),\n",
       " ('21st', 'ADJ'),\n",
       " ('FIFA', 'ADJ'),\n",
       " ('Cup', 'ADJ'),\n",
       " ('tournament', 'ADJ'),\n",
       " ('contested', 'ADJ'),\n",
       " ('Cup', 'ADJ'),\n",
       " ('trips', 'ADJ'),\n",
       " ('Denver', 'ADJ'),\n",
       " ('arriving', 'ADJ'),\n",
       " ('NASA', 'ADJ'),\n",
       " ('invited', 'ADJ'),\n",
       " ('ICESAT-2', 'ADJ'),\n",
       " ('Satellite', 'ADJ')]"
      ]
     },
     "execution_count": 24,
     "metadata": {},
     "output_type": "execute_result"
    }
   ],
   "source": [
    "# Get the tokens in test file & list of words which are present in test file but not in the training corpus\n",
    "# This will help us to extract all the words not present in corpus and examine how the unknown words are tagged\n",
    "sample_tokens = [token for sentence in test_sentences for token in word_tokenize(sentence)]\n",
    "words_not_in_corpus = list(set(sample_tokens) - set(nltk_train_tokens))\n",
    "print(words_not_in_corpus)\n",
    "\n",
    "wrongly_tagged_words = [pair for pair in test_sentences_pred for word in words_not_in_corpus if pair[0] == word]\n",
    "wrongly_tagged_words"
   ]
  },
  {
   "cell_type": "markdown",
   "metadata": {},
   "source": [
    "We observe that words like 'Google', 'Twitter' and 'Android' etc. are not present in the training set and they are all tagged default tags using vanilla viterbi algorithm"
   ]
  },
  {
   "cell_type": "markdown",
   "metadata": {},
   "source": [
    "#### Perform EDA"
   ]
  },
  {
   "cell_type": "code",
   "execution_count": 25,
   "metadata": {},
   "outputs": [
    {
     "name": "stdout",
     "output_type": "stream",
     "text": [
      "Counter({'NOUN': 27323, 'VERB': 12845, '.': 11125, 'ADP': 9362, 'DET': 8302, 'X': 6261, 'ADJ': 6026, 'NUM': 3363, 'PRT': 3043, 'ADV': 3020, 'PRON': 2595, 'CONJ': 2131})\n"
     ]
    },
    {
     "data": {
      "text/plain": [
       "[('NOUN', 27323), ('VERB', 12845), ('.', 11125), ('ADP', 9362), ('DET', 8302)]"
      ]
     },
     "execution_count": 25,
     "metadata": {},
     "output_type": "execute_result"
    }
   ],
   "source": [
    "# Check count of all tags in the training set and top 5 tag counts\n",
    "train_tag_counts = Counter(pair[1] for pair in nltk_train_tagged_words)\n",
    "print(train_tag_counts)\n",
    "train_tag_counts.most_common(5)"
   ]
  },
  {
   "cell_type": "code",
   "execution_count": 26,
   "metadata": {},
   "outputs": [
    {
     "data": {
      "text/plain": [
       "Counter({'ADJ': 27, 'ADP': 2})"
      ]
     },
     "execution_count": 26,
     "metadata": {},
     "output_type": "execute_result"
    }
   ],
   "source": [
    "# Check count of incorrectly classfied words tags\n",
    "Counter(pair[1][0][1] for pair in incorrect_tagged_words)"
   ]
  },
  {
   "cell_type": "code",
   "execution_count": 27,
   "metadata": {},
   "outputs": [
    {
     "name": "stdout",
     "output_type": "stream",
     "text": [
      "Percentage of words ending with \"ed\" tagged as verb: 20.7\n"
     ]
    },
    {
     "data": {
      "text/plain": [
       "[('introduced', 'VERB'),\n",
       " ('designed', 'VERB'),\n",
       " ('fielded', 'VERB'),\n",
       " ('tried', 'VERB'),\n",
       " ('warned', 'VERB'),\n",
       " ('lowered', 'VERB'),\n",
       " ('alleged', 'VERB'),\n",
       " ('filed', 'VERB'),\n",
       " ('issued', 'VERB'),\n",
       " ('merged', 'VERB')]"
      ]
     },
     "execution_count": 27,
     "metadata": {},
     "output_type": "execute_result"
    }
   ],
   "source": [
    "# Check the percentage of words classified as verbs which end with 'ed'\n",
    "# We observe 20% words have been classified as verb, and have word ending with \"ed\"\n",
    "tagged_verb = [pair for pair in nltk_train_tagged_words if pair[1] == 'VERB']\n",
    "verb_ed = [pair for pair in tagged_verb if pair[0].endswith('ed')]\n",
    "print(f'Percentage of words ending with \"ed\" tagged as verb: {round((len(verb_ed) / len(tagged_verb))*100, 2)}')\n",
    "verb_ed[:10]"
   ]
  },
  {
   "cell_type": "code",
   "execution_count": 28,
   "metadata": {},
   "outputs": [
    {
     "name": "stdout",
     "output_type": "stream",
     "text": [
      "Percentage of words ending with \"ing\" tagged as verb: 10.91\n"
     ]
    },
    {
     "data": {
      "text/plain": [
       "[('packaging', 'VERB'),\n",
       " ('accusing', 'VERB'),\n",
       " ('jeopardizing', 'VERB'),\n",
       " ('raising', 'VERB'),\n",
       " ('including', 'VERB'),\n",
       " ('yielding', 'VERB'),\n",
       " ('tracking', 'VERB'),\n",
       " ('bring', 'VERB'),\n",
       " ('surrounding', 'VERB'),\n",
       " ('reporting', 'VERB')]"
      ]
     },
     "execution_count": 28,
     "metadata": {},
     "output_type": "execute_result"
    }
   ],
   "source": [
    "# Check the percentage of words classified as verbs which end with 'ing'\n",
    "# We observe ~11% words have been classified as verb, and have word ending with \"ed\"\n",
    "tagged_verb = [pair for pair in nltk_train_tagged_words if pair[1] == 'VERB']\n",
    "verb_ing = [pair for pair in tagged_verb if pair[0].endswith('ing')]\n",
    "print(f'Percentage of words ending with \"ing\" tagged as verb: {round((len(verb_ing) / len(tagged_verb))*100, 2)}')\n",
    "verb_ing[:10]"
   ]
  },
  {
   "cell_type": "code",
   "execution_count": 29,
   "metadata": {},
   "outputs": [
    {
     "name": "stdout",
     "output_type": "stream",
     "text": [
      "Percentage of words ending with \"es\" tagged as verb: 2.6\n"
     ]
    },
    {
     "data": {
      "text/plain": [
       "[('states', 'VERB'),\n",
       " ('believes', 'VERB'),\n",
       " ('faces', 'VERB'),\n",
       " ('goes', 'VERB'),\n",
       " ('hopes', 'VERB'),\n",
       " ('compares', 'VERB'),\n",
       " ('becomes', 'VERB'),\n",
       " ('pushes', 'VERB'),\n",
       " ('concedes', 'VERB'),\n",
       " ('improves', 'VERB')]"
      ]
     },
     "execution_count": 29,
     "metadata": {},
     "output_type": "execute_result"
    }
   ],
   "source": [
    "# Check the percentage of words classified as verbs which end with 'es'\n",
    "# We observe ~2.5% words have been classified as verb, and have word ending with \"es\"\n",
    "tagged_verb = [pair for pair in nltk_train_tagged_words if pair[1] == 'VERB']\n",
    "verb_es = [pair for pair in tagged_verb if pair[0].endswith('es')]\n",
    "print(f'Percentage of words ending with \"es\" tagged as verb: {round((len(verb_es) / len(tagged_verb))*100, 2)}')\n",
    "verb_es[:10]"
   ]
  },
  {
   "cell_type": "code",
   "execution_count": 30,
   "metadata": {},
   "outputs": [
    {
     "name": "stdout",
     "output_type": "stream",
     "text": [
      "Percentage of words tagged as adjective followed by noun: 69.96\n"
     ]
    }
   ],
   "source": [
    "# Check the percentage of words classified as adjective tags and are followed by Noun\n",
    "# We observe ~70% words have been classified as adjective and are followed by a Noun\n",
    "all_tags = [pair[1] for pair in nltk_train_tagged_words]\n",
    "tagged_adj = [tag for tag in all_tags if tag == 'ADJ']\n",
    "adj_noun = [(tag, all_tags[idx+1]) for idx, tag in enumerate(all_tags) if tag == 'ADJ' and all_tags[idx+1] == 'NOUN']\n",
    "print(f'Percentage of words tagged as adjective followed by noun: {round((len(adj_noun) / len(tagged_adj))*100, 2)}')"
   ]
  },
  {
   "cell_type": "code",
   "execution_count": 31,
   "metadata": {},
   "outputs": [
    {
     "name": "stdout",
     "output_type": "stream",
     "text": [
      "Percentage of words taggedas determinent followed by noun: 64.07\n"
     ]
    }
   ],
   "source": [
    "# Check the percentage of words classified as determinent tags and are followed by Noun\n",
    "# We observe ~64% words have been classified as determinent and are followed by a Noun\n",
    "all_tags = [pair[1] for pair in nltk_train_tagged_words]\n",
    "tagged_det = [tag for tag in all_tags if tag == 'DET']\n",
    "adj_noun = [(tag, all_tags[idx+1]) for idx, tag in enumerate(all_tags) if tag == 'DET' and all_tags[idx+1] == 'NOUN']\n",
    "print(f'Percentage of words taggedas determinent followed by noun: {round((len(adj_noun) / len(tagged_det))*100, 2)}')"
   ]
  },
  {
   "cell_type": "code",
   "execution_count": 32,
   "metadata": {},
   "outputs": [],
   "source": [
    "# Based on the EDA done above designing the pattern for tagging for further algorithms\n",
    "patterns = [\n",
    "    (r'.*ing$', 'VERB'),              # gerund\n",
    "    (r'.*ed$', 'VERB'),               # past tense verbs\n",
    "    (r'.*es$', 'VERB'),               # singular present verbs\n",
    "    (r'.*ould$', 'VERB'),              # modal verbs\n",
    "    (r'.*\\'s$', 'NOUN'),              # possessive nouns\n",
    "    (r'.*s$', 'NOUN'),                # plural nouns\n",
    "    (r'^-?[0-9]+(.[0-9]+)?$', 'NUM'), # cardinal numbers\n",
    "    (r'(The|the|A|a|An|an)$', 'DET'),   # articles or determinants\n",
    "    (r'.*able$', 'ADJ'),                # adjectives\n",
    "    (r'.*ness$', 'NOUN'),                # nouns formed from adjectives\n",
    "    (r'.*ly$', 'ADV'),                  # adverbs\n",
    "    (r'.*', 'NOUN')                    # nouns\n",
    "]"
   ]
  },
  {
   "cell_type": "markdown",
   "metadata": {},
   "source": [
    "#### Approach 1: Rule Based Tagging with Viterbi using backoff"
   ]
  },
  {
   "cell_type": "code",
   "execution_count": 33,
   "metadata": {},
   "outputs": [
    {
     "name": "stdout",
     "output_type": "stream",
     "text": [
      "accuracy of rule based viterbi algorithm using backoff is: 0.9488636363636364\n"
     ]
    }
   ],
   "source": [
    "# Apply rule based tagger using regex and unigram tagger\n",
    "rule_based_tagger = nltk.RegexpTagger(patterns)\n",
    "rule_based_lexicon_tagger = nltk.UnigramTagger(nltk_train, backoff = rule_based_tagger)\n",
    "accuracy_rule_based_viterbi_backoff = rule_based_lexicon_tagger.evaluate(nltk_test)\n",
    "print(f'accuracy of rule based viterbi algorithm using backoff is: {accuracy_rule_based_viterbi_backoff}')"
   ]
  },
  {
   "cell_type": "markdown",
   "metadata": {},
   "source": [
    "In approach(1) Rule based tagger using unigram lexicon tagger gives accuracy of around 95%. We will try improve it further using different algorithms."
   ]
  },
  {
   "cell_type": "markdown",
   "metadata": {},
   "source": [
    "#### Approach 2: Rule Based Tagging with Viterbi without backoff"
   ]
  },
  {
   "cell_type": "markdown",
   "metadata": {},
   "source": [
    "#### Helper Methods"
   ]
  },
  {
   "cell_type": "code",
   "execution_count": 34,
   "metadata": {},
   "outputs": [],
   "source": [
    "# Helper method for rule based tagging using RegexpTagger\n",
    "def rule_based_tagging(word, pattern):\n",
    "    regexp_tagger = nltk.RegexpTagger(pattern)\n",
    "    tags = regexp_tagger.tag(nltk.word_tokenize(word))\n",
    "    for el in tags:\n",
    "        print(f\"source word is: {word} and it's rule based tag is: {el[1]}\")\n",
    "        return el[1]"
   ]
  },
  {
   "cell_type": "code",
   "execution_count": 35,
   "metadata": {},
   "outputs": [],
   "source": [
    "# Rule Based Viterbi Heuristic: Build the rule based Viterbi POS tagger by computing emission and state probabilities\n",
    "def compute_rule_based_viterbi(words, train_data = nltk_train_tagged_words):\n",
    "    state_list = []\n",
    "    tag_list = list(set([el[1] for el in train_data]))\n",
    "    for idx, word in enumerate(words):\n",
    "        word_prob = [] \n",
    "        for tag in tag_list:\n",
    "            state_prob, transition_prob, emission_prob = None, None, None\n",
    "            if idx == 0:\n",
    "                transition_prob = nltk_tags_df.loc['.', tag]\n",
    "            else:\n",
    "                transition_prob = nltk_tags_df.loc[state_list[-1], tag]\n",
    "            emission_prob = get_emission_prob(words[idx], tag)[0]/get_emission_prob(words[idx], tag)[1]\n",
    "            word_prob.append(emission_prob * transition_prob)\n",
    "        if max(word_prob) == 0.0:\n",
    "            max_state = rule_based_tagging(word, patterns)\n",
    "            if max_state is None :\n",
    "                max_state = \".\"\n",
    "        else:\n",
    "            max_state = tag_list[word_prob.index(max(word_prob))] \n",
    "        state_list.append(max_state)\n",
    "    return list(zip(words, state_list))"
   ]
  },
  {
   "cell_type": "markdown",
   "metadata": {},
   "source": [
    "#### Execute tagging"
   ]
  },
  {
   "cell_type": "code",
   "execution_count": 36,
   "metadata": {},
   "outputs": [
    {
     "name": "stdout",
     "output_type": "stream",
     "text": [
      "source word is: Asians and it's rule based tag is: NOUN\n",
      "source word is: counterweight and it's rule based tag is: NOUN\n",
      "source word is: Colorado and it's rule based tag is: NOUN\n",
      "source word is: Pan and it's rule based tag is: NOUN\n",
      "source word is: Am and it's rule based tag is: NOUN\n",
      "source word is: subpoenaed and it's rule based tag is: VERB\n",
      "source word is: CIA and it's rule based tag is: NOUN\n",
      "source word is: FBI and it's rule based tag is: NOUN\n",
      "source word is: bomb and it's rule based tag is: NOUN\n",
      "source word is: planted and it's rule based tag is: VERB\n",
      "source word is: aboard and it's rule based tag is: NOUN\n",
      "source word is: exploded and it's rule based tag is: VERB\n",
      "source word is: Scotland and it's rule based tag is: NOUN\n",
      "source word is: reorganized and it's rule based tag is: VERB\n",
      "source word is: Ranger and it's rule based tag is: NOUN\n",
      "source word is: Major and it's rule based tag is: NOUN\n",
      "source word is: 20-stock and it's rule based tag is: NOUN\n",
      "source word is: mimics and it's rule based tag is: NOUN\n",
      "source word is: chicago and it's rule based tag is: NOUN\n",
      "source word is: selected and it's rule based tag is: VERB\n",
      "source word is: rarely and it's rule based tag is: ADV\n",
      "source word is: acted and it's rule based tag is: VERB\n",
      "source word is: 51.6 and it's rule based tag is: NUM\n",
      "source word is: readings and it's rule based tag is: NOUN\n",
      "source word is: long-tenured and it's rule based tag is: VERB\n",
      "source word is: Countries and it's rule based tag is: VERB\n",
      "source word is: framework and it's rule based tag is: NOUN\n",
      "[('Many', 'ADJ'), ('Asians', 'NOUN'), ('regard', 'VERB'), ('a', 'DET'), ('U.S.', 'NOUN'), ('presence', 'NOUN'), ('as', 'ADP'), ('a', 'DET'), ('desirable', 'ADJ'), ('counterweight', 'NOUN'), ('to', 'PRT'), ('Japanese', 'ADJ'), ('influence', 'NOUN'), ('.', '.'), ('Mr.', 'NOUN'), ('Cray', 'NOUN'), (',', '.'), ('who', 'PRON'), ('*T*-1', 'X'), ('could', 'VERB'), (\"n't\", 'ADV'), ('be', 'VERB'), ('reached', 'VERB'), ('*-24', 'X'), ('for', 'ADP'), ('comment', 'NOUN'), (',', '.'), ('will', 'VERB'), ('work', 'VERB'), ('for', 'ADP'), ('the', 'DET'), ('new', 'ADJ'), ('Colorado', 'NOUN'), ('Springs', 'NOUN'), (',', '.'), ('Colo.', 'NOUN'), (',', '.'), ('company', 'NOUN'), ('as', 'ADP'), ('an', 'DET'), ('independent', 'ADJ'), ('contractor', 'NOUN'), ('--', '.'), ('the', 'DET'), ('arrangement', 'NOUN'), ('0', 'X'), ('he', 'PRON'), ('had', 'VERB'), ('*T*-2', 'X'), ('with', 'ADP'), ('Cray', 'NOUN'), ('Research', 'NOUN'), ('.', '.'), ('Pan', 'NOUN'), ('Am', 'NOUN'), ('has', 'VERB'), ('subpoenaed', 'VERB'), ('several', 'ADJ'), ('government', 'NOUN'), ('agencies', 'NOUN'), (',', '.'), ('including', 'VERB'), ('the', 'DET'), ('CIA', 'NOUN'), ('and', 'CONJ'), ('FBI', 'NOUN'), (',', '.'), ('*', 'X'), ('to', 'PRT'), ('determine', 'VERB'), ('whether', 'ADP'), ('they', 'PRON'), ('were', 'VERB'), ('warned', 'VERB'), ('*-1', 'X'), ('that', 'ADP'), ('a', 'DET'), ('bomb', 'NOUN'), ('had', 'VERB'), ('been', 'VERB'), ('planted', 'VERB'), ('*-2', 'X'), ('aboard', 'NOUN'), ('a', 'DET'), ('jet', 'NOUN'), ('that', 'ADP'), ('*T*-3', 'X'), ('exploded', 'VERB'), ('over', 'ADP'), ('Scotland', 'NOUN'), ('last', 'ADJ'), ('December', 'NOUN'), (',', '.'), ('*-4', 'X'), ('killing', 'VERB'), ('270', 'NUM'), ('people', 'NOUN'), ('.', '.'), ('In', 'ADP'), ('addition', 'NOUN'), (',', '.'), ('they', 'PRON'), ('will', 'VERB'), ('receive', 'VERB'), ('stock', 'NOUN'), ('in', 'ADP'), ('the', 'DET'), ('reorganized', 'VERB'), ('company', 'NOUN'), (',', '.'), ('which', 'DET'), ('*T*-2', 'X'), ('will', 'VERB'), ('be', 'VERB'), ('named', 'VERB'), ('*-1', 'X'), ('Ranger', 'NOUN'), ('Industries', 'NOUN'), ('Inc', 'NOUN'), ('.', '.'), ('The', 'DET'), ('most', 'ADJ'), ('common', 'ADJ'), ('program-trading', 'ADJ'), ('vehicles', 'NOUN'), ('are', 'VERB'), ('futures', 'NOUN'), ('contracts', 'NOUN'), ('on', 'ADP'), ('Standard', 'NOUN'), ('&', 'CONJ'), ('poor', 'ADJ'), (\"'s\", 'PRT'), ('500-stock', 'ADJ'), ('index', 'NOUN'), ('-LRB-', '.'), ('traded', 'VERB'), ('*', 'X'), ('on', 'ADP'), ('the', 'DET'), ('Chicago', 'NOUN'), ('Mercantile', 'NOUN'), ('Exchange', 'NOUN'), ('-RRB-', '.'), (';', '.'), ('the', 'DET'), ('Major', 'NOUN'), ('Market', 'NOUN'), ('Index', 'NOUN'), (',', '.'), ('a', 'DET'), ('20-stock', 'NOUN'), ('index', 'NOUN'), ('that', 'ADP'), ('*T*-1', 'X'), ('mimics', 'NOUN'), ('the', 'DET'), ('Dow', 'NOUN'), ('Jones', 'NOUN'), ('Industrial', 'NOUN'), ('Average', 'NOUN'), ('-LRB-', '.'), ('traded', 'VERB'), ('*', 'X'), ('on', 'ADP'), ('the', 'DET'), ('chicago', 'NOUN'), ('Board', 'NOUN'), ('of', 'ADP'), ('Trade', 'NOUN'), ('-RRB-', '.'), (';', '.'), ('and', 'CONJ'), ('the', 'DET'), ('S&P', 'NOUN'), ('100', 'NUM'), ('options', 'NOUN'), ('-LRB-', '.'), ('traded', 'VERB'), ('*', 'X'), ('on', 'ADP'), ('the', 'DET'), ('Chicago', 'NOUN'), ('Board', 'NOUN'), ('Options', 'NOUN'), ('Exchange', 'NOUN'), (',', '.'), ('and', 'CONJ'), ('based', 'VERB'), ('*', 'X'), ('on', 'ADP'), ('100', 'NUM'), ('stocks', 'NOUN'), ('selected', 'VERB'), ('*', 'X'), ('from', 'ADP'), ('the', 'DET'), ('S&P', 'NOUN'), ('500', 'NUM'), ('-RRB-', '.'), ('.', '.'), ('Until', 'ADP'), ('last', 'ADJ'), ('week', 'NOUN'), (',', '.'), ('the', 'DET'), ('IRS', 'NOUN'), ('rarely', 'ADV'), ('acted', 'VERB'), ('on', 'ADP'), ('the', 'DET'), ('incomplete', 'ADJ'), ('forms', 'NOUN'), ('.', '.'), ('The', 'DET'), ('Purchasing', 'NOUN'), ('Management', 'NOUN'), ('Association', 'NOUN'), ('of', 'ADP'), ('Chicago', 'NOUN'), (\"'s\", 'PRT'), ('October', 'NOUN'), ('index', 'NOUN'), ('rose', 'VERB'), ('to', 'PRT'), ('51.6', 'NUM'), ('%', 'NOUN'), ('after', 'ADP'), ('three', 'NUM'), ('previous', 'ADJ'), ('months', 'NOUN'), ('of', 'ADP'), ('readings', 'NOUN'), ('below', 'ADP'), ('50', 'NUM'), ('%', 'NOUN'), ('.', '.'), ('Soon', 'ADV'), (',', '.'), ('it', 'PRON'), ('will', 'VERB'), ('split', 'VERB'), ('those', 'DET'), ('into', 'ADP'), ('30', 'NUM'), ('.', '.'), ('Some', 'DET'), ('long-tenured', 'VERB'), ('employees', 'NOUN'), ('will', 'VERB'), ('receive', 'VERB'), ('additional', 'ADJ'), ('benefits', 'NOUN'), (',', '.'), ('the', 'DET'), ('company', 'NOUN'), ('said', 'VERB'), ('0', 'X'), ('*T*-1', 'X'), ('.', '.'), ('Countries', 'VERB'), ('in', 'ADP'), ('the', 'DET'), ('region', 'NOUN'), ('also', 'ADV'), ('are', 'VERB'), ('beginning', 'VERB'), ('*-1', 'X'), ('to', 'PRT'), ('consider', 'VERB'), ('a', 'DET'), ('framework', 'NOUN'), ('for', 'ADP'), ('closer', 'ADJ'), ('economic', 'ADJ'), ('and', 'CONJ'), ('political', 'ADJ'), ('ties', 'NOUN'), ('.', '.')]\n",
      "CPU times: user 52.4 s, sys: 232 ms, total: 52.6 s\n",
      "Wall time: 52.8 s\n"
     ]
    }
   ],
   "source": [
    "%%time\n",
    "# Start tagging the test sentences using compute_rule_based_viterbi algorithm\n",
    "tagged_sequence = compute_rule_based_viterbi(test_untagged_words)\n",
    "print(tagged_sequence)"
   ]
  },
  {
   "cell_type": "markdown",
   "metadata": {},
   "source": [
    "#### Evaluating tagging accuracy"
   ]
  },
  {
   "cell_type": "code",
   "execution_count": 37,
   "metadata": {},
   "outputs": [
    {
     "name": "stdout",
     "output_type": "stream",
     "text": [
      "accuracy of rule based viterbi algorithm is: 0.96415770609319\n"
     ]
    }
   ],
   "source": [
    "# Get the accuracy\n",
    "source = [i for i, j in zip(tagged_sequence, test_tagged_words) if i == j] \n",
    "accuracy_rule_based_viterbi = len(source)/len(tagged_sequence)\n",
    "print(f'accuracy of rule based viterbi algorithm is: {accuracy_rule_based_viterbi}')"
   ]
  },
  {
   "cell_type": "code",
   "execution_count": 38,
   "metadata": {},
   "outputs": [
    {
     "data": {
      "text/plain": [
       "[[('Pan', 'NOUN'), (('Am', 'NOUN'), ('Am', 'VERB'))],\n",
       " [('*-2', 'X'), (('aboard', 'NOUN'), ('aboard', 'ADP'))],\n",
       " [('jet', 'NOUN'), (('that', 'ADP'), ('that', 'DET'))],\n",
       " [('The', 'DET'), (('most', 'ADJ'), ('most', 'ADV'))],\n",
       " [('&', 'CONJ'), (('poor', 'ADJ'), ('poor', 'NOUN'))],\n",
       " [('a', 'DET'), (('20-stock', 'NOUN'), ('20-stock', 'ADJ'))],\n",
       " [('index', 'NOUN'), (('that', 'ADP'), ('that', 'DET'))],\n",
       " [('*T*-1', 'X'), (('mimics', 'NOUN'), ('mimics', 'VERB'))],\n",
       " [('Some', 'DET'), (('long-tenured', 'VERB'), ('long-tenured', 'ADJ'))],\n",
       " [('.', '.'), (('Countries', 'VERB'), ('Countries', 'NOUN'))]]"
      ]
     },
     "execution_count": 38,
     "metadata": {},
     "output_type": "execute_result"
    }
   ],
   "source": [
    "# Get all the incorrect tagged words\n",
    "incorrect_tagged_words = [[test_tagged_words[i-1],j] for i, j in \n",
    "                          enumerate(zip(tagged_sequence, test_tagged_words)) if j[0]!=j[1]]\n",
    "incorrect_tagged_words"
   ]
  },
  {
   "cell_type": "code",
   "execution_count": 39,
   "metadata": {
    "scrolled": false
   },
   "outputs": [
    {
     "name": "stdout",
     "output_type": "stream",
     "text": [
      "source word is: Android and it's rule based tag is: NOUN\n",
      "source word is: Google and it's rule based tag is: NOUN\n",
      "source word is: Android and it's rule based tag is: NOUN\n",
      "source word is: OS and it's rule based tag is: NOUN\n",
      "source word is: worldwide and it's rule based tag is: NOUN\n",
      "source word is: smartphones and it's rule based tag is: VERB\n",
      "source word is: 2011 and it's rule based tag is: NUM\n",
      "source word is: 2013 and it's rule based tag is: NUM\n",
      "source word is: Google and it's rule based tag is: NOUN\n",
      "source word is: Twitter and it's rule based tag is: NOUN\n",
      "source word is: 2015 and it's rule based tag is: NUM\n",
      "source word is: Google and it's rule based tag is: NOUN\n",
      "source word is: Twitter and it's rule based tag is: NOUN\n",
      "source word is: firehose and it's rule based tag is: NOUN\n",
      "source word is: Twitter and it's rule based tag is: NOUN\n",
      "source word is: online and it's rule based tag is: NOUN\n",
      "source word is: interact and it's rule based tag is: NOUN\n",
      "source word is: messages and it's rule based tag is: VERB\n",
      "source word is: tweets and it's rule based tag is: NOUN\n",
      "source word is: domineering and it's rule based tag is: VERB\n",
      "source word is: personality and it's rule based tag is: NOUN\n",
      "source word is: 2018 and it's rule based tag is: NUM\n",
      "source word is: FIFA and it's rule based tag is: NOUN\n",
      "source word is: Cup and it's rule based tag is: NOUN\n",
      "source word is: 21st and it's rule based tag is: NOUN\n",
      "source word is: FIFA and it's rule based tag is: NOUN\n",
      "source word is: Cup and it's rule based tag is: NOUN\n",
      "source word is: tournament and it's rule based tag is: NOUN\n",
      "source word is: contested and it's rule based tag is: VERB\n",
      "source word is: Cup and it's rule based tag is: NOUN\n",
      "source word is: trips and it's rule based tag is: NOUN\n",
      "source word is: Denver and it's rule based tag is: NOUN\n",
      "source word is: arriving and it's rule based tag is: VERB\n",
      "source word is: NASA and it's rule based tag is: NOUN\n",
      "source word is: invited and it's rule based tag is: VERB\n",
      "source word is: ICESAT-2 and it's rule based tag is: NOUN\n",
      "source word is: Satellite and it's rule based tag is: NOUN\n",
      "[('Android', 'NOUN'), ('is', 'VERB'), ('a', 'DET'), ('mobile', 'ADJ'), ('operating', 'NOUN'), ('system', 'NOUN'), ('developed', 'VERB'), ('by', 'ADP'), ('Google', 'NOUN'), ('.', '.'), ('Android', 'NOUN'), ('has', 'VERB'), ('been', 'VERB'), ('the', 'DET'), ('best-selling', 'ADJ'), ('OS', 'NOUN'), ('worldwide', 'NOUN'), ('on', 'ADP'), ('smartphones', 'VERB'), ('since', 'ADP'), ('2011', 'NUM'), ('and', 'CONJ'), ('on', 'ADP'), ('tablets', 'NOUN'), ('since', 'ADP'), ('2013', 'NUM'), ('.', '.'), ('Google', 'NOUN'), ('and', 'CONJ'), ('Twitter', 'NOUN'), ('made', 'VERB'), ('a', 'DET'), ('deal', 'NOUN'), ('in', 'ADP'), ('2015', 'NUM'), ('that', 'ADP'), ('gave', 'VERB'), ('Google', 'NOUN'), ('access', 'NOUN'), ('to', 'PRT'), ('Twitter', 'NOUN'), (\"'s\", 'PRT'), ('firehose', 'NOUN'), ('.', '.'), ('Twitter', 'NOUN'), ('is', 'VERB'), ('an', 'DET'), ('online', 'NOUN'), ('news', 'NOUN'), ('and', 'CONJ'), ('social', 'ADJ'), ('networking', 'NOUN'), ('service', 'NOUN'), ('on', 'ADP'), ('which', 'DET'), ('users', 'NOUN'), ('post', 'NOUN'), ('and', 'CONJ'), ('interact', 'NOUN'), ('with', 'ADP'), ('messages', 'VERB'), ('known', 'VERB'), ('as', 'ADP'), ('tweets', 'NOUN'), ('.', '.'), ('Before', 'ADP'), ('entering', 'VERB'), ('politics', 'NOUN'), (',', '.'), ('Donald', 'NOUN'), ('Trump', 'NOUN'), ('was', 'VERB'), ('a', 'DET'), ('domineering', 'VERB'), ('businessman', 'NOUN'), ('and', 'CONJ'), ('a', 'DET'), ('television', 'NOUN'), ('personality', 'NOUN'), ('.', '.'), ('The', 'DET'), ('2018', 'NUM'), ('FIFA', 'NOUN'), ('World', 'NOUN'), ('Cup', 'NOUN'), ('is', 'VERB'), ('the', 'DET'), ('21st', 'NOUN'), ('FIFA', 'NOUN'), ('World', 'NOUN'), ('Cup', 'NOUN'), (',', '.'), ('an', 'DET'), ('international', 'ADJ'), ('football', 'NOUN'), ('tournament', 'NOUN'), ('contested', 'VERB'), ('once', 'ADV'), ('every', 'DET'), ('four', 'NUM'), ('years', 'NOUN'), ('.', '.'), ('This', 'DET'), ('is', 'VERB'), ('the', 'DET'), ('first', 'ADJ'), ('World', 'NOUN'), ('Cup', 'NOUN'), ('to', 'PRT'), ('be', 'VERB'), ('held', 'VERB'), ('in', 'ADP'), ('Eastern', 'NOUN'), ('Europe', 'NOUN'), ('and', 'CONJ'), ('the', 'DET'), ('11th', 'ADJ'), ('time', 'NOUN'), ('that', 'ADP'), ('it', 'PRON'), ('has', 'VERB'), ('been', 'VERB'), ('held', 'VERB'), ('in', 'ADP'), ('Europe', 'NOUN'), ('.', '.'), ('Show', 'NOUN'), ('me', 'PRON'), ('the', 'DET'), ('cheapest', 'ADJ'), ('round', 'NOUN'), ('trips', 'NOUN'), ('from', 'ADP'), ('Dallas', 'NOUN'), ('to', 'PRT'), ('Atlanta', 'NOUN'), ('I', 'PRON'), ('would', 'VERB'), ('like', 'ADP'), ('to', 'PRT'), ('see', 'VERB'), ('flights', 'NOUN'), ('from', 'ADP'), ('Denver', 'NOUN'), ('to', 'PRT'), ('Philadelphia', 'NOUN'), ('.', '.'), ('Show', 'NOUN'), ('me', 'PRON'), ('the', 'DET'), ('price', 'NOUN'), ('of', 'ADP'), ('the', 'DET'), ('flights', 'NOUN'), ('leaving', 'VERB'), ('Atlanta', 'NOUN'), ('at', 'ADP'), ('about', 'ADP'), ('3', 'NUM'), ('in', 'ADP'), ('the', 'DET'), ('afternoon', 'NOUN'), ('and', 'CONJ'), ('arriving', 'VERB'), ('in', 'ADP'), ('San', 'NOUN'), ('Francisco', 'NOUN'), ('.', '.'), ('NASA', 'NOUN'), ('invited', 'VERB'), ('social', 'ADJ'), ('media', 'NOUN'), ('users', 'NOUN'), ('to', 'PRT'), ('experience', 'NOUN'), ('the', 'DET'), ('launch', 'NOUN'), ('of', 'ADP'), ('ICESAT-2', 'NOUN'), ('Satellite', 'NOUN'), ('.', '.')]\n",
      "CPU times: user 32.3 s, sys: 102 ms, total: 32.4 s\n",
      "Wall time: 32.5 s\n"
     ]
    }
   ],
   "source": [
    "%%time\n",
    "# Use the same object which reads test_sentences.txt,\n",
    "# perform word_tokenize and execute rule based viterbi algorithm\n",
    "test_sentences_pred = []\n",
    "for sentence in test_sentences:\n",
    "    test_sentences_pred.extend(compute_rule_based_viterbi(word_tokenize(sentence)))\n",
    "print(test_sentences_pred)"
   ]
  },
  {
   "cell_type": "markdown",
   "metadata": {},
   "source": [
    "#### Approach 3: Lexicon Based Tagging with Viterbi without backoff"
   ]
  },
  {
   "cell_type": "code",
   "execution_count": 40,
   "metadata": {},
   "outputs": [],
   "source": [
    "# Helper method for bigram based tagging\n",
    "def bigram_based_tagging(word):\n",
    "    start_tag = DefaultTagger('NOUN')\n",
    "    inter_tag = UnigramTagger(nltk_test, backoff=t0)\n",
    "    final_tag = BigramTagger(nltk_test, backoff=inter_tag)\n",
    "    out_values = final_tag.tag(nltk.word_tokenize(word))\n",
    "    return out_values[0][1]"
   ]
  },
  {
   "cell_type": "code",
   "execution_count": 41,
   "metadata": {},
   "outputs": [],
   "source": [
    "# Lexicon Based Viterbi Heuristic: Build the lexicon based Viterbi POS tagger by emission and state probabilities calc\n",
    "def compute_lexicon_based_viterbi(words, train_data = nltk_train_tagged_words):\n",
    "    state_list = []\n",
    "    tag_list = list(set([el[1] for el in train_data]))\n",
    "    for idx, word in enumerate(words):\n",
    "        word_prob = [] \n",
    "        for tag in tag_list:\n",
    "            state_prob, transition_prob, emission_prob = None, None, None\n",
    "            if idx == 0:\n",
    "                transition_prob = nltk_tags_df.loc['.', tag]\n",
    "            else:\n",
    "                transition_prob = nltk_tags_df.loc[state_list[-1], tag]\n",
    "            emission_prob = get_emission_prob(words[idx], tag)[0]/get_emission_prob(words[idx], tag)[1]\n",
    "            word_prob.append(emission_prob * transition_prob)\n",
    "        if max(word_prob) == 0.0:\n",
    "            max_state = rule_based_tagging(word, patterns)\n",
    "            if max_state is None :\n",
    "                max_state = \".\"\n",
    "        else:\n",
    "            max_state = tag_list[word_prob.index(max(word_prob))] \n",
    "        state_list.append(max_state)\n",
    "    return list(zip(words, state_list))"
   ]
  },
  {
   "cell_type": "markdown",
   "metadata": {},
   "source": [
    "#### Execute tagging"
   ]
  },
  {
   "cell_type": "code",
   "execution_count": 42,
   "metadata": {},
   "outputs": [
    {
     "name": "stdout",
     "output_type": "stream",
     "text": [
      "source word is: Asians and it's rule based tag is: NOUN\n",
      "source word is: counterweight and it's rule based tag is: NOUN\n",
      "source word is: Colorado and it's rule based tag is: NOUN\n",
      "source word is: Pan and it's rule based tag is: NOUN\n",
      "source word is: Am and it's rule based tag is: NOUN\n",
      "source word is: subpoenaed and it's rule based tag is: VERB\n",
      "source word is: CIA and it's rule based tag is: NOUN\n",
      "source word is: FBI and it's rule based tag is: NOUN\n",
      "source word is: bomb and it's rule based tag is: NOUN\n",
      "source word is: planted and it's rule based tag is: VERB\n",
      "source word is: aboard and it's rule based tag is: NOUN\n",
      "source word is: exploded and it's rule based tag is: VERB\n",
      "source word is: Scotland and it's rule based tag is: NOUN\n",
      "source word is: reorganized and it's rule based tag is: VERB\n",
      "source word is: Ranger and it's rule based tag is: NOUN\n",
      "source word is: Major and it's rule based tag is: NOUN\n",
      "source word is: 20-stock and it's rule based tag is: NOUN\n",
      "source word is: mimics and it's rule based tag is: NOUN\n",
      "source word is: chicago and it's rule based tag is: NOUN\n",
      "source word is: selected and it's rule based tag is: VERB\n",
      "source word is: rarely and it's rule based tag is: ADV\n",
      "source word is: acted and it's rule based tag is: VERB\n",
      "source word is: 51.6 and it's rule based tag is: NUM\n",
      "source word is: readings and it's rule based tag is: NOUN\n",
      "source word is: long-tenured and it's rule based tag is: VERB\n",
      "source word is: Countries and it's rule based tag is: VERB\n",
      "source word is: framework and it's rule based tag is: NOUN\n",
      "CPU times: user 50.1 s, sys: 160 ms, total: 50.3 s\n",
      "Wall time: 50.4 s\n"
     ]
    },
    {
     "data": {
      "text/plain": [
       "[('Many', 'ADJ'),\n",
       " ('Asians', 'NOUN'),\n",
       " ('regard', 'VERB'),\n",
       " ('a', 'DET'),\n",
       " ('U.S.', 'NOUN'),\n",
       " ('presence', 'NOUN'),\n",
       " ('as', 'ADP'),\n",
       " ('a', 'DET'),\n",
       " ('desirable', 'ADJ'),\n",
       " ('counterweight', 'NOUN'),\n",
       " ('to', 'PRT'),\n",
       " ('Japanese', 'ADJ'),\n",
       " ('influence', 'NOUN'),\n",
       " ('.', '.'),\n",
       " ('Mr.', 'NOUN'),\n",
       " ('Cray', 'NOUN'),\n",
       " (',', '.'),\n",
       " ('who', 'PRON'),\n",
       " ('*T*-1', 'X'),\n",
       " ('could', 'VERB'),\n",
       " (\"n't\", 'ADV'),\n",
       " ('be', 'VERB'),\n",
       " ('reached', 'VERB'),\n",
       " ('*-24', 'X'),\n",
       " ('for', 'ADP'),\n",
       " ('comment', 'NOUN'),\n",
       " (',', '.'),\n",
       " ('will', 'VERB'),\n",
       " ('work', 'VERB'),\n",
       " ('for', 'ADP'),\n",
       " ('the', 'DET'),\n",
       " ('new', 'ADJ'),\n",
       " ('Colorado', 'NOUN'),\n",
       " ('Springs', 'NOUN'),\n",
       " (',', '.'),\n",
       " ('Colo.', 'NOUN'),\n",
       " (',', '.'),\n",
       " ('company', 'NOUN'),\n",
       " ('as', 'ADP'),\n",
       " ('an', 'DET'),\n",
       " ('independent', 'ADJ'),\n",
       " ('contractor', 'NOUN'),\n",
       " ('--', '.'),\n",
       " ('the', 'DET'),\n",
       " ('arrangement', 'NOUN'),\n",
       " ('0', 'X'),\n",
       " ('he', 'PRON'),\n",
       " ('had', 'VERB'),\n",
       " ('*T*-2', 'X'),\n",
       " ('with', 'ADP'),\n",
       " ('Cray', 'NOUN'),\n",
       " ('Research', 'NOUN'),\n",
       " ('.', '.'),\n",
       " ('Pan', 'NOUN'),\n",
       " ('Am', 'NOUN'),\n",
       " ('has', 'VERB'),\n",
       " ('subpoenaed', 'VERB'),\n",
       " ('several', 'ADJ'),\n",
       " ('government', 'NOUN'),\n",
       " ('agencies', 'NOUN'),\n",
       " (',', '.'),\n",
       " ('including', 'VERB'),\n",
       " ('the', 'DET'),\n",
       " ('CIA', 'NOUN'),\n",
       " ('and', 'CONJ'),\n",
       " ('FBI', 'NOUN'),\n",
       " (',', '.'),\n",
       " ('*', 'X'),\n",
       " ('to', 'PRT'),\n",
       " ('determine', 'VERB'),\n",
       " ('whether', 'ADP'),\n",
       " ('they', 'PRON'),\n",
       " ('were', 'VERB'),\n",
       " ('warned', 'VERB'),\n",
       " ('*-1', 'X'),\n",
       " ('that', 'ADP'),\n",
       " ('a', 'DET'),\n",
       " ('bomb', 'NOUN'),\n",
       " ('had', 'VERB'),\n",
       " ('been', 'VERB'),\n",
       " ('planted', 'VERB'),\n",
       " ('*-2', 'X'),\n",
       " ('aboard', 'NOUN'),\n",
       " ('a', 'DET'),\n",
       " ('jet', 'NOUN'),\n",
       " ('that', 'ADP'),\n",
       " ('*T*-3', 'X'),\n",
       " ('exploded', 'VERB'),\n",
       " ('over', 'ADP'),\n",
       " ('Scotland', 'NOUN'),\n",
       " ('last', 'ADJ'),\n",
       " ('December', 'NOUN'),\n",
       " (',', '.'),\n",
       " ('*-4', 'X'),\n",
       " ('killing', 'VERB'),\n",
       " ('270', 'NUM'),\n",
       " ('people', 'NOUN'),\n",
       " ('.', '.'),\n",
       " ('In', 'ADP'),\n",
       " ('addition', 'NOUN'),\n",
       " (',', '.'),\n",
       " ('they', 'PRON'),\n",
       " ('will', 'VERB'),\n",
       " ('receive', 'VERB'),\n",
       " ('stock', 'NOUN'),\n",
       " ('in', 'ADP'),\n",
       " ('the', 'DET'),\n",
       " ('reorganized', 'VERB'),\n",
       " ('company', 'NOUN'),\n",
       " (',', '.'),\n",
       " ('which', 'DET'),\n",
       " ('*T*-2', 'X'),\n",
       " ('will', 'VERB'),\n",
       " ('be', 'VERB'),\n",
       " ('named', 'VERB'),\n",
       " ('*-1', 'X'),\n",
       " ('Ranger', 'NOUN'),\n",
       " ('Industries', 'NOUN'),\n",
       " ('Inc', 'NOUN'),\n",
       " ('.', '.'),\n",
       " ('The', 'DET'),\n",
       " ('most', 'ADJ'),\n",
       " ('common', 'ADJ'),\n",
       " ('program-trading', 'ADJ'),\n",
       " ('vehicles', 'NOUN'),\n",
       " ('are', 'VERB'),\n",
       " ('futures', 'NOUN'),\n",
       " ('contracts', 'NOUN'),\n",
       " ('on', 'ADP'),\n",
       " ('Standard', 'NOUN'),\n",
       " ('&', 'CONJ'),\n",
       " ('poor', 'ADJ'),\n",
       " (\"'s\", 'PRT'),\n",
       " ('500-stock', 'ADJ'),\n",
       " ('index', 'NOUN'),\n",
       " ('-LRB-', '.'),\n",
       " ('traded', 'VERB'),\n",
       " ('*', 'X'),\n",
       " ('on', 'ADP'),\n",
       " ('the', 'DET'),\n",
       " ('Chicago', 'NOUN'),\n",
       " ('Mercantile', 'NOUN'),\n",
       " ('Exchange', 'NOUN'),\n",
       " ('-RRB-', '.'),\n",
       " (';', '.'),\n",
       " ('the', 'DET'),\n",
       " ('Major', 'NOUN'),\n",
       " ('Market', 'NOUN'),\n",
       " ('Index', 'NOUN'),\n",
       " (',', '.'),\n",
       " ('a', 'DET'),\n",
       " ('20-stock', 'NOUN'),\n",
       " ('index', 'NOUN'),\n",
       " ('that', 'ADP'),\n",
       " ('*T*-1', 'X'),\n",
       " ('mimics', 'NOUN'),\n",
       " ('the', 'DET'),\n",
       " ('Dow', 'NOUN'),\n",
       " ('Jones', 'NOUN'),\n",
       " ('Industrial', 'NOUN'),\n",
       " ('Average', 'NOUN'),\n",
       " ('-LRB-', '.'),\n",
       " ('traded', 'VERB'),\n",
       " ('*', 'X'),\n",
       " ('on', 'ADP'),\n",
       " ('the', 'DET'),\n",
       " ('chicago', 'NOUN'),\n",
       " ('Board', 'NOUN'),\n",
       " ('of', 'ADP'),\n",
       " ('Trade', 'NOUN'),\n",
       " ('-RRB-', '.'),\n",
       " (';', '.'),\n",
       " ('and', 'CONJ'),\n",
       " ('the', 'DET'),\n",
       " ('S&P', 'NOUN'),\n",
       " ('100', 'NUM'),\n",
       " ('options', 'NOUN'),\n",
       " ('-LRB-', '.'),\n",
       " ('traded', 'VERB'),\n",
       " ('*', 'X'),\n",
       " ('on', 'ADP'),\n",
       " ('the', 'DET'),\n",
       " ('Chicago', 'NOUN'),\n",
       " ('Board', 'NOUN'),\n",
       " ('Options', 'NOUN'),\n",
       " ('Exchange', 'NOUN'),\n",
       " (',', '.'),\n",
       " ('and', 'CONJ'),\n",
       " ('based', 'VERB'),\n",
       " ('*', 'X'),\n",
       " ('on', 'ADP'),\n",
       " ('100', 'NUM'),\n",
       " ('stocks', 'NOUN'),\n",
       " ('selected', 'VERB'),\n",
       " ('*', 'X'),\n",
       " ('from', 'ADP'),\n",
       " ('the', 'DET'),\n",
       " ('S&P', 'NOUN'),\n",
       " ('500', 'NUM'),\n",
       " ('-RRB-', '.'),\n",
       " ('.', '.'),\n",
       " ('Until', 'ADP'),\n",
       " ('last', 'ADJ'),\n",
       " ('week', 'NOUN'),\n",
       " (',', '.'),\n",
       " ('the', 'DET'),\n",
       " ('IRS', 'NOUN'),\n",
       " ('rarely', 'ADV'),\n",
       " ('acted', 'VERB'),\n",
       " ('on', 'ADP'),\n",
       " ('the', 'DET'),\n",
       " ('incomplete', 'ADJ'),\n",
       " ('forms', 'NOUN'),\n",
       " ('.', '.'),\n",
       " ('The', 'DET'),\n",
       " ('Purchasing', 'NOUN'),\n",
       " ('Management', 'NOUN'),\n",
       " ('Association', 'NOUN'),\n",
       " ('of', 'ADP'),\n",
       " ('Chicago', 'NOUN'),\n",
       " (\"'s\", 'PRT'),\n",
       " ('October', 'NOUN'),\n",
       " ('index', 'NOUN'),\n",
       " ('rose', 'VERB'),\n",
       " ('to', 'PRT'),\n",
       " ('51.6', 'NUM'),\n",
       " ('%', 'NOUN'),\n",
       " ('after', 'ADP'),\n",
       " ('three', 'NUM'),\n",
       " ('previous', 'ADJ'),\n",
       " ('months', 'NOUN'),\n",
       " ('of', 'ADP'),\n",
       " ('readings', 'NOUN'),\n",
       " ('below', 'ADP'),\n",
       " ('50', 'NUM'),\n",
       " ('%', 'NOUN'),\n",
       " ('.', '.'),\n",
       " ('Soon', 'ADV'),\n",
       " (',', '.'),\n",
       " ('it', 'PRON'),\n",
       " ('will', 'VERB'),\n",
       " ('split', 'VERB'),\n",
       " ('those', 'DET'),\n",
       " ('into', 'ADP'),\n",
       " ('30', 'NUM'),\n",
       " ('.', '.'),\n",
       " ('Some', 'DET'),\n",
       " ('long-tenured', 'VERB'),\n",
       " ('employees', 'NOUN'),\n",
       " ('will', 'VERB'),\n",
       " ('receive', 'VERB'),\n",
       " ('additional', 'ADJ'),\n",
       " ('benefits', 'NOUN'),\n",
       " (',', '.'),\n",
       " ('the', 'DET'),\n",
       " ('company', 'NOUN'),\n",
       " ('said', 'VERB'),\n",
       " ('0', 'X'),\n",
       " ('*T*-1', 'X'),\n",
       " ('.', '.'),\n",
       " ('Countries', 'VERB'),\n",
       " ('in', 'ADP'),\n",
       " ('the', 'DET'),\n",
       " ('region', 'NOUN'),\n",
       " ('also', 'ADV'),\n",
       " ('are', 'VERB'),\n",
       " ('beginning', 'VERB'),\n",
       " ('*-1', 'X'),\n",
       " ('to', 'PRT'),\n",
       " ('consider', 'VERB'),\n",
       " ('a', 'DET'),\n",
       " ('framework', 'NOUN'),\n",
       " ('for', 'ADP'),\n",
       " ('closer', 'ADJ'),\n",
       " ('economic', 'ADJ'),\n",
       " ('and', 'CONJ'),\n",
       " ('political', 'ADJ'),\n",
       " ('ties', 'NOUN'),\n",
       " ('.', '.')]"
      ]
     },
     "execution_count": 42,
     "metadata": {},
     "output_type": "execute_result"
    }
   ],
   "source": [
    "%%time\n",
    "# Start tagging the test sentences using compute_lexicon_based_viterbi algorithm\n",
    "tagged_sequence = compute_lexicon_based_viterbi(test_untagged_words)\n",
    "tagged_sequence"
   ]
  },
  {
   "cell_type": "markdown",
   "metadata": {},
   "source": [
    "#### Evaluating tagging accuracy"
   ]
  },
  {
   "cell_type": "code",
   "execution_count": 43,
   "metadata": {},
   "outputs": [
    {
     "name": "stdout",
     "output_type": "stream",
     "text": [
      "accuracy of lexicon based viterbi algorithm is: 0.96415770609319\n"
     ]
    }
   ],
   "source": [
    "# Get the accuracy\n",
    "source = [i for i, j in zip(tagged_sequence, test_tagged_words) if i == j] \n",
    "accuracy_lexicon_based_viterbi = len(source)/len(tagged_sequence)\n",
    "print(f'accuracy of lexicon based viterbi algorithm is: {accuracy_lexicon_based_viterbi}')"
   ]
  },
  {
   "cell_type": "code",
   "execution_count": 44,
   "metadata": {},
   "outputs": [
    {
     "data": {
      "text/plain": [
       "[[('Pan', 'NOUN'), (('Am', 'NOUN'), ('Am', 'VERB'))],\n",
       " [('*-2', 'X'), (('aboard', 'NOUN'), ('aboard', 'ADP'))],\n",
       " [('jet', 'NOUN'), (('that', 'ADP'), ('that', 'DET'))],\n",
       " [('The', 'DET'), (('most', 'ADJ'), ('most', 'ADV'))],\n",
       " [('&', 'CONJ'), (('poor', 'ADJ'), ('poor', 'NOUN'))],\n",
       " [('a', 'DET'), (('20-stock', 'NOUN'), ('20-stock', 'ADJ'))],\n",
       " [('index', 'NOUN'), (('that', 'ADP'), ('that', 'DET'))],\n",
       " [('*T*-1', 'X'), (('mimics', 'NOUN'), ('mimics', 'VERB'))],\n",
       " [('Some', 'DET'), (('long-tenured', 'VERB'), ('long-tenured', 'ADJ'))],\n",
       " [('.', '.'), (('Countries', 'VERB'), ('Countries', 'NOUN'))]]"
      ]
     },
     "execution_count": 44,
     "metadata": {},
     "output_type": "execute_result"
    }
   ],
   "source": [
    "# Get all the incorrect tagged words\n",
    "incorrect_tagged_words = [[test_tagged_words[i-1],j] for i, j in \n",
    "                          enumerate(zip(tagged_sequence, test_tagged_words)) if j[0]!=j[1]]\n",
    "incorrect_tagged_words"
   ]
  },
  {
   "cell_type": "code",
   "execution_count": 45,
   "metadata": {
    "scrolled": false
   },
   "outputs": [
    {
     "name": "stdout",
     "output_type": "stream",
     "text": [
      "source word is: Android and it's rule based tag is: NOUN\n",
      "source word is: Google and it's rule based tag is: NOUN\n",
      "source word is: Android and it's rule based tag is: NOUN\n",
      "source word is: OS and it's rule based tag is: NOUN\n",
      "source word is: worldwide and it's rule based tag is: NOUN\n",
      "source word is: smartphones and it's rule based tag is: VERB\n",
      "source word is: 2011 and it's rule based tag is: NUM\n",
      "source word is: 2013 and it's rule based tag is: NUM\n",
      "source word is: Google and it's rule based tag is: NOUN\n",
      "source word is: Twitter and it's rule based tag is: NOUN\n",
      "source word is: 2015 and it's rule based tag is: NUM\n",
      "source word is: Google and it's rule based tag is: NOUN\n",
      "source word is: Twitter and it's rule based tag is: NOUN\n",
      "source word is: firehose and it's rule based tag is: NOUN\n",
      "source word is: Twitter and it's rule based tag is: NOUN\n",
      "source word is: online and it's rule based tag is: NOUN\n",
      "source word is: interact and it's rule based tag is: NOUN\n",
      "source word is: messages and it's rule based tag is: VERB\n",
      "source word is: tweets and it's rule based tag is: NOUN\n",
      "source word is: domineering and it's rule based tag is: VERB\n",
      "source word is: personality and it's rule based tag is: NOUN\n",
      "source word is: 2018 and it's rule based tag is: NUM\n",
      "source word is: FIFA and it's rule based tag is: NOUN\n",
      "source word is: Cup and it's rule based tag is: NOUN\n",
      "source word is: 21st and it's rule based tag is: NOUN\n",
      "source word is: FIFA and it's rule based tag is: NOUN\n",
      "source word is: Cup and it's rule based tag is: NOUN\n",
      "source word is: tournament and it's rule based tag is: NOUN\n",
      "source word is: contested and it's rule based tag is: VERB\n",
      "source word is: Cup and it's rule based tag is: NOUN\n",
      "source word is: trips and it's rule based tag is: NOUN\n",
      "source word is: Denver and it's rule based tag is: NOUN\n",
      "source word is: arriving and it's rule based tag is: VERB\n",
      "source word is: NASA and it's rule based tag is: NOUN\n",
      "source word is: invited and it's rule based tag is: VERB\n",
      "source word is: ICESAT-2 and it's rule based tag is: NOUN\n",
      "source word is: Satellite and it's rule based tag is: NOUN\n",
      "[('Android', 'NOUN'), ('is', 'VERB'), ('a', 'DET'), ('mobile', 'ADJ'), ('operating', 'NOUN'), ('system', 'NOUN'), ('developed', 'VERB'), ('by', 'ADP'), ('Google', 'NOUN'), ('.', '.'), ('Android', 'NOUN'), ('has', 'VERB'), ('been', 'VERB'), ('the', 'DET'), ('best-selling', 'ADJ'), ('OS', 'NOUN'), ('worldwide', 'NOUN'), ('on', 'ADP'), ('smartphones', 'VERB'), ('since', 'ADP'), ('2011', 'NUM'), ('and', 'CONJ'), ('on', 'ADP'), ('tablets', 'NOUN'), ('since', 'ADP'), ('2013', 'NUM'), ('.', '.'), ('Google', 'NOUN'), ('and', 'CONJ'), ('Twitter', 'NOUN'), ('made', 'VERB'), ('a', 'DET'), ('deal', 'NOUN'), ('in', 'ADP'), ('2015', 'NUM'), ('that', 'ADP'), ('gave', 'VERB'), ('Google', 'NOUN'), ('access', 'NOUN'), ('to', 'PRT'), ('Twitter', 'NOUN'), (\"'s\", 'PRT'), ('firehose', 'NOUN'), ('.', '.'), ('Twitter', 'NOUN'), ('is', 'VERB'), ('an', 'DET'), ('online', 'NOUN'), ('news', 'NOUN'), ('and', 'CONJ'), ('social', 'ADJ'), ('networking', 'NOUN'), ('service', 'NOUN'), ('on', 'ADP'), ('which', 'DET'), ('users', 'NOUN'), ('post', 'NOUN'), ('and', 'CONJ'), ('interact', 'NOUN'), ('with', 'ADP'), ('messages', 'VERB'), ('known', 'VERB'), ('as', 'ADP'), ('tweets', 'NOUN'), ('.', '.'), ('Before', 'ADP'), ('entering', 'VERB'), ('politics', 'NOUN'), (',', '.'), ('Donald', 'NOUN'), ('Trump', 'NOUN'), ('was', 'VERB'), ('a', 'DET'), ('domineering', 'VERB'), ('businessman', 'NOUN'), ('and', 'CONJ'), ('a', 'DET'), ('television', 'NOUN'), ('personality', 'NOUN'), ('.', '.'), ('The', 'DET'), ('2018', 'NUM'), ('FIFA', 'NOUN'), ('World', 'NOUN'), ('Cup', 'NOUN'), ('is', 'VERB'), ('the', 'DET'), ('21st', 'NOUN'), ('FIFA', 'NOUN'), ('World', 'NOUN'), ('Cup', 'NOUN'), (',', '.'), ('an', 'DET'), ('international', 'ADJ'), ('football', 'NOUN'), ('tournament', 'NOUN'), ('contested', 'VERB'), ('once', 'ADV'), ('every', 'DET'), ('four', 'NUM'), ('years', 'NOUN'), ('.', '.'), ('This', 'DET'), ('is', 'VERB'), ('the', 'DET'), ('first', 'ADJ'), ('World', 'NOUN'), ('Cup', 'NOUN'), ('to', 'PRT'), ('be', 'VERB'), ('held', 'VERB'), ('in', 'ADP'), ('Eastern', 'NOUN'), ('Europe', 'NOUN'), ('and', 'CONJ'), ('the', 'DET'), ('11th', 'ADJ'), ('time', 'NOUN'), ('that', 'ADP'), ('it', 'PRON'), ('has', 'VERB'), ('been', 'VERB'), ('held', 'VERB'), ('in', 'ADP'), ('Europe', 'NOUN'), ('.', '.'), ('Show', 'NOUN'), ('me', 'PRON'), ('the', 'DET'), ('cheapest', 'ADJ'), ('round', 'NOUN'), ('trips', 'NOUN'), ('from', 'ADP'), ('Dallas', 'NOUN'), ('to', 'PRT'), ('Atlanta', 'NOUN'), ('I', 'PRON'), ('would', 'VERB'), ('like', 'ADP'), ('to', 'PRT'), ('see', 'VERB'), ('flights', 'NOUN'), ('from', 'ADP'), ('Denver', 'NOUN'), ('to', 'PRT'), ('Philadelphia', 'NOUN'), ('.', '.'), ('Show', 'NOUN'), ('me', 'PRON'), ('the', 'DET'), ('price', 'NOUN'), ('of', 'ADP'), ('the', 'DET'), ('flights', 'NOUN'), ('leaving', 'VERB'), ('Atlanta', 'NOUN'), ('at', 'ADP'), ('about', 'ADP'), ('3', 'NUM'), ('in', 'ADP'), ('the', 'DET'), ('afternoon', 'NOUN'), ('and', 'CONJ'), ('arriving', 'VERB'), ('in', 'ADP'), ('San', 'NOUN'), ('Francisco', 'NOUN'), ('.', '.'), ('NASA', 'NOUN'), ('invited', 'VERB'), ('social', 'ADJ'), ('media', 'NOUN'), ('users', 'NOUN'), ('to', 'PRT'), ('experience', 'NOUN'), ('the', 'DET'), ('launch', 'NOUN'), ('of', 'ADP'), ('ICESAT-2', 'NOUN'), ('Satellite', 'NOUN'), ('.', '.')]\n",
      "CPU times: user 32.8 s, sys: 108 ms, total: 32.9 s\n",
      "Wall time: 33 s\n"
     ]
    }
   ],
   "source": [
    "%%time\n",
    "# Use the same object which reads test_sentences.txt,\n",
    "# perform word_tokenize and execute lexicon based viterbi algorithm\n",
    "test_sentences_pred = []\n",
    "for sentence in test_sentences:\n",
    "    test_sentences_pred.extend(compute_lexicon_based_viterbi(word_tokenize(sentence)))\n",
    "print(test_sentences_pred)"
   ]
  },
  {
   "cell_type": "markdown",
   "metadata": {},
   "source": [
    "### Compare the tagging accuracies of the modifications with the vanilla Viterbi algorithm"
   ]
  },
  {
   "cell_type": "code",
   "execution_count": 46,
   "metadata": {},
   "outputs": [
    {
     "name": "stdout",
     "output_type": "stream",
     "text": [
      "Vannila Viterbi Accuracy: 0.8960573476702509\n",
      "Rule Based Viterbi with backoff Accuracy: 0.9488636363636364\n",
      "Rule Based Viterbi without backoff Accuracy: 0.96415770609319\n",
      "Lexicon Based Viterbi without backoff Accuracy: 0.96415770609319\n"
     ]
    }
   ],
   "source": [
    "# Compare accuracies\n",
    "# Rule Based Viterbi's accuracy are greater than Plain Vannila Viterbi's accuracy\n",
    "print(\"Vannila Viterbi Accuracy: \"+ str(accuracy_vannila_viterbi))\n",
    "print(\"Rule Based Viterbi with backoff Accuracy: \"+ str(accuracy_rule_based_viterbi_backoff))\n",
    "print(\"Rule Based Viterbi without backoff Accuracy: \"+ str(accuracy_rule_based_viterbi))\n",
    "print(\"Lexicon Based Viterbi without backoff Accuracy: \"+ str(accuracy_lexicon_based_viterbi))"
   ]
  },
  {
   "cell_type": "markdown",
   "metadata": {},
   "source": [
    "#### Rule Based Viterbi's accuracy are greater than Plain Vannila Viterbi's accuracy"
   ]
  },
  {
   "cell_type": "markdown",
   "metadata": {},
   "source": [
    "### List down cases which were incorrectly tagged by original POS tagger and got corrected by your modifications"
   ]
  },
  {
   "cell_type": "markdown",
   "metadata": {},
   "source": [
    "* Words like 'Android', 'Twitter' and 'Google' are tagged incorrectly using Vanilla Viterbi algorithm. Using modified Viterbi algorithm properly tags them as 'NOUN'.\n",
    "* Words like 'NASA' and 'FIFA' are tagged incorrectly using Vanilla Viterbi algorithm. Using modified Viterbi algorithm properly tags them as 'NOUN'.\n",
    "* Words ending with 'ing' like 'arriving' and the ones ending with 'ed' like 'invited' are tagged incorrectly using Vanilla Viterbi algorithm. These are properly tagged as 'VERB' in Rule Based Tagging.\n",
    "* Words with integers or float, like 2011, 2013, 2015 etc. are tagged incorrectly using Vanilla Viterbi algorithm. These are properly tagged as NUM in rule based tagger."
   ]
  },
  {
   "cell_type": "code",
   "execution_count": null,
   "metadata": {},
   "outputs": [],
   "source": []
  }
 ],
 "metadata": {
  "kernelspec": {
   "display_name": "Python 3",
   "language": "python",
   "name": "python3"
  },
  "language_info": {
   "codemirror_mode": {
    "name": "ipython",
    "version": 3
   },
   "file_extension": ".py",
   "mimetype": "text/x-python",
   "name": "python",
   "nbconvert_exporter": "python",
   "pygments_lexer": "ipython3",
   "version": "3.7.4"
  }
 },
 "nbformat": 4,
 "nbformat_minor": 2
}
